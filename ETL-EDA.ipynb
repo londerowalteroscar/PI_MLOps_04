{
 "cells": [
  {
   "cell_type": "markdown",
   "metadata": {},
   "source": [
    "# ETL PI MLOps"
   ]
  },
  {
   "cell_type": "markdown",
   "metadata": {},
   "source": [
    "Importación de librerias necesarias para el proyeco:"
   ]
  },
  {
   "cell_type": "code",
   "execution_count": 1,
   "metadata": {},
   "outputs": [],
   "source": [
    "import json\n",
    "import os\n",
    "import pandas as pd\n",
    "import gzip\n",
    "import ast\n",
    "import numpy as np\n",
    "import re\n",
    "import matplotlib.pyplot as plt\n",
    "from fastapi import FastAPI, HTTPException\n",
    "from datetime import datetime\n",
    "from textblob import TextBlob\n",
    "from sklearn.preprocessing import LabelEncoder\n",
    "from datetime import datetime "
   ]
  },
  {
   "cell_type": "markdown",
   "metadata": {},
   "source": [
    "# ETL"
   ]
  },
  {
   "cell_type": "markdown",
   "metadata": {},
   "source": [
    "En este apartado empezamos la extracción y transformación de los datos para poder trabajarlos."
   ]
  },
  {
   "cell_type": "markdown",
   "metadata": {},
   "source": [
    "## 1 - Extracción (Extract):"
   ]
  },
  {
   "cell_type": "markdown",
   "metadata": {},
   "source": [
    "### a) Función para abrir Datasets sin Problemas:"
   ]
  },
  {
   "cell_type": "code",
   "execution_count": 2,
   "metadata": {},
   "outputs": [],
   "source": [
    "def abrir_python(archivo):\n",
    "    lista_de_datos = []  # Creamos una lista para almacenar los datos\n",
    "    with gzip.open(archivo, \"rb\") as file:  # Abrimos el archivo gzip en modo binario para lectura\n",
    "        for line in file:  # Iteramos sobre cada línea del archivo\n",
    "            decode_line = line.decode(\"utf-8\")  # Decodificamos la línea como UTF-8\n",
    "            # Utilizamos ast.literal_eval() para evaluar la línea como una expresión literal de Python\n",
    "            # Esto es seguro si los datos son literales de Python válidos\n",
    "            lista_de_datos.append(ast.literal_eval(decode_line.strip()))  # Agregamos los datos a la lista\n",
    "    return lista_de_datos  # Devolvemos la lista de datos"
   ]
  },
  {
   "cell_type": "markdown",
   "metadata": {},
   "source": [
    "### b)Función para abrir Datasets con Problemas:"
   ]
  },
  {
   "cell_type": "code",
   "execution_count": 3,
   "metadata": {},
   "outputs": [],
   "source": [
    "def abrir_games(archivo):\n",
    "    lista_de_datos = []  # Creamos una lista para almacenar los datos\n",
    "    with gzip.open(archivo, \"rt\", encoding=\"utf-8\") as file:  # Abrimos el archivo gzip en modo texto\n",
    "        for line in file:  # Iteramos sobre cada línea del archivo\n",
    "            try:\n",
    "                data = json.loads(line.strip())  # Utilizamos json.loads para cargar el JSON de manera segura\n",
    "                lista_de_datos.append(data)  # Agregamos los datos a la lista\n",
    "            except json.JSONDecodeError as e:\n",
    "                print(f\"Error en línea: {line.strip()}\")\n",
    "                print(e)\n",
    "    return lista_de_datos  # Devolvemos la lista de datos"
   ]
  },
  {
   "cell_type": "markdown",
   "metadata": {},
   "source": [
    "### c) Cargamos los Datasets"
   ]
  },
  {
   "cell_type": "code",
   "execution_count": 4,
   "metadata": {},
   "outputs": [
    {
     "data": {
      "text/html": [
       "<div>\n",
       "<style scoped>\n",
       "    .dataframe tbody tr th:only-of-type {\n",
       "        vertical-align: middle;\n",
       "    }\n",
       "\n",
       "    .dataframe tbody tr th {\n",
       "        vertical-align: top;\n",
       "    }\n",
       "\n",
       "    .dataframe thead th {\n",
       "        text-align: right;\n",
       "    }\n",
       "</style>\n",
       "<table border=\"1\" class=\"dataframe\">\n",
       "  <thead>\n",
       "    <tr style=\"text-align: right;\">\n",
       "      <th></th>\n",
       "      <th>user_id</th>\n",
       "      <th>user_url</th>\n",
       "      <th>reviews</th>\n",
       "    </tr>\n",
       "  </thead>\n",
       "  <tbody>\n",
       "    <tr>\n",
       "      <th>0</th>\n",
       "      <td>76561197970982479</td>\n",
       "      <td>http://steamcommunity.com/profiles/76561197970...</td>\n",
       "      <td>[{'funny': '', 'posted': 'Posted November 5, 2...</td>\n",
       "    </tr>\n",
       "    <tr>\n",
       "      <th>1</th>\n",
       "      <td>js41637</td>\n",
       "      <td>http://steamcommunity.com/id/js41637</td>\n",
       "      <td>[{'funny': '', 'posted': 'Posted June 24, 2014...</td>\n",
       "    </tr>\n",
       "    <tr>\n",
       "      <th>2</th>\n",
       "      <td>evcentric</td>\n",
       "      <td>http://steamcommunity.com/id/evcentric</td>\n",
       "      <td>[{'funny': '', 'posted': 'Posted February 3.',...</td>\n",
       "    </tr>\n",
       "    <tr>\n",
       "      <th>3</th>\n",
       "      <td>doctr</td>\n",
       "      <td>http://steamcommunity.com/id/doctr</td>\n",
       "      <td>[{'funny': '', 'posted': 'Posted October 14, 2...</td>\n",
       "    </tr>\n",
       "    <tr>\n",
       "      <th>4</th>\n",
       "      <td>maplemage</td>\n",
       "      <td>http://steamcommunity.com/id/maplemage</td>\n",
       "      <td>[{'funny': '3 people found this review funny',...</td>\n",
       "    </tr>\n",
       "    <tr>\n",
       "      <th>...</th>\n",
       "      <td>...</td>\n",
       "      <td>...</td>\n",
       "      <td>...</td>\n",
       "    </tr>\n",
       "    <tr>\n",
       "      <th>25794</th>\n",
       "      <td>76561198306599751</td>\n",
       "      <td>http://steamcommunity.com/profiles/76561198306...</td>\n",
       "      <td>[{'funny': '', 'posted': 'Posted May 31.', 'la...</td>\n",
       "    </tr>\n",
       "    <tr>\n",
       "      <th>25795</th>\n",
       "      <td>Ghoustik</td>\n",
       "      <td>http://steamcommunity.com/id/Ghoustik</td>\n",
       "      <td>[{'funny': '', 'posted': 'Posted June 17.', 'l...</td>\n",
       "    </tr>\n",
       "    <tr>\n",
       "      <th>25796</th>\n",
       "      <td>76561198310819422</td>\n",
       "      <td>http://steamcommunity.com/profiles/76561198310...</td>\n",
       "      <td>[{'funny': '1 person found this review funny',...</td>\n",
       "    </tr>\n",
       "    <tr>\n",
       "      <th>25797</th>\n",
       "      <td>76561198312638244</td>\n",
       "      <td>http://steamcommunity.com/profiles/76561198312...</td>\n",
       "      <td>[{'funny': '', 'posted': 'Posted July 21.', 'l...</td>\n",
       "    </tr>\n",
       "    <tr>\n",
       "      <th>25798</th>\n",
       "      <td>LydiaMorley</td>\n",
       "      <td>http://steamcommunity.com/id/LydiaMorley</td>\n",
       "      <td>[{'funny': '1 person found this review funny',...</td>\n",
       "    </tr>\n",
       "  </tbody>\n",
       "</table>\n",
       "<p>25799 rows × 3 columns</p>\n",
       "</div>"
      ],
      "text/plain": [
       "                 user_id                                           user_url  \\\n",
       "0      76561197970982479  http://steamcommunity.com/profiles/76561197970...   \n",
       "1                js41637               http://steamcommunity.com/id/js41637   \n",
       "2              evcentric             http://steamcommunity.com/id/evcentric   \n",
       "3                  doctr                 http://steamcommunity.com/id/doctr   \n",
       "4              maplemage             http://steamcommunity.com/id/maplemage   \n",
       "...                  ...                                                ...   \n",
       "25794  76561198306599751  http://steamcommunity.com/profiles/76561198306...   \n",
       "25795           Ghoustik              http://steamcommunity.com/id/Ghoustik   \n",
       "25796  76561198310819422  http://steamcommunity.com/profiles/76561198310...   \n",
       "25797  76561198312638244  http://steamcommunity.com/profiles/76561198312...   \n",
       "25798        LydiaMorley           http://steamcommunity.com/id/LydiaMorley   \n",
       "\n",
       "                                                 reviews  \n",
       "0      [{'funny': '', 'posted': 'Posted November 5, 2...  \n",
       "1      [{'funny': '', 'posted': 'Posted June 24, 2014...  \n",
       "2      [{'funny': '', 'posted': 'Posted February 3.',...  \n",
       "3      [{'funny': '', 'posted': 'Posted October 14, 2...  \n",
       "4      [{'funny': '3 people found this review funny',...  \n",
       "...                                                  ...  \n",
       "25794  [{'funny': '', 'posted': 'Posted May 31.', 'la...  \n",
       "25795  [{'funny': '', 'posted': 'Posted June 17.', 'l...  \n",
       "25796  [{'funny': '1 person found this review funny',...  \n",
       "25797  [{'funny': '', 'posted': 'Posted July 21.', 'l...  \n",
       "25798  [{'funny': '1 person found this review funny',...  \n",
       "\n",
       "[25799 rows x 3 columns]"
      ]
     },
     "metadata": {},
     "output_type": "display_data"
    },
    {
     "data": {
      "text/html": [
       "<div>\n",
       "<style scoped>\n",
       "    .dataframe tbody tr th:only-of-type {\n",
       "        vertical-align: middle;\n",
       "    }\n",
       "\n",
       "    .dataframe tbody tr th {\n",
       "        vertical-align: top;\n",
       "    }\n",
       "\n",
       "    .dataframe thead th {\n",
       "        text-align: right;\n",
       "    }\n",
       "</style>\n",
       "<table border=\"1\" class=\"dataframe\">\n",
       "  <thead>\n",
       "    <tr style=\"text-align: right;\">\n",
       "      <th></th>\n",
       "      <th>user_id</th>\n",
       "      <th>items_count</th>\n",
       "      <th>steam_id</th>\n",
       "      <th>user_url</th>\n",
       "      <th>items</th>\n",
       "    </tr>\n",
       "  </thead>\n",
       "  <tbody>\n",
       "    <tr>\n",
       "      <th>0</th>\n",
       "      <td>76561197970982479</td>\n",
       "      <td>277</td>\n",
       "      <td>76561197970982479</td>\n",
       "      <td>http://steamcommunity.com/profiles/76561197970...</td>\n",
       "      <td>[{'item_id': '10', 'item_name': 'Counter-Strik...</td>\n",
       "    </tr>\n",
       "    <tr>\n",
       "      <th>1</th>\n",
       "      <td>js41637</td>\n",
       "      <td>888</td>\n",
       "      <td>76561198035864385</td>\n",
       "      <td>http://steamcommunity.com/id/js41637</td>\n",
       "      <td>[{'item_id': '10', 'item_name': 'Counter-Strik...</td>\n",
       "    </tr>\n",
       "    <tr>\n",
       "      <th>2</th>\n",
       "      <td>evcentric</td>\n",
       "      <td>137</td>\n",
       "      <td>76561198007712555</td>\n",
       "      <td>http://steamcommunity.com/id/evcentric</td>\n",
       "      <td>[{'item_id': '1200', 'item_name': 'Red Orchest...</td>\n",
       "    </tr>\n",
       "    <tr>\n",
       "      <th>3</th>\n",
       "      <td>Riot-Punch</td>\n",
       "      <td>328</td>\n",
       "      <td>76561197963445855</td>\n",
       "      <td>http://steamcommunity.com/id/Riot-Punch</td>\n",
       "      <td>[{'item_id': '10', 'item_name': 'Counter-Strik...</td>\n",
       "    </tr>\n",
       "    <tr>\n",
       "      <th>4</th>\n",
       "      <td>doctr</td>\n",
       "      <td>541</td>\n",
       "      <td>76561198002099482</td>\n",
       "      <td>http://steamcommunity.com/id/doctr</td>\n",
       "      <td>[{'item_id': '300', 'item_name': 'Day of Defea...</td>\n",
       "    </tr>\n",
       "    <tr>\n",
       "      <th>...</th>\n",
       "      <td>...</td>\n",
       "      <td>...</td>\n",
       "      <td>...</td>\n",
       "      <td>...</td>\n",
       "      <td>...</td>\n",
       "    </tr>\n",
       "    <tr>\n",
       "      <th>88305</th>\n",
       "      <td>76561198323066619</td>\n",
       "      <td>22</td>\n",
       "      <td>76561198323066619</td>\n",
       "      <td>http://steamcommunity.com/profiles/76561198323...</td>\n",
       "      <td>[{'item_id': '413850', 'item_name': 'CS:GO Pla...</td>\n",
       "    </tr>\n",
       "    <tr>\n",
       "      <th>88306</th>\n",
       "      <td>76561198326700687</td>\n",
       "      <td>177</td>\n",
       "      <td>76561198326700687</td>\n",
       "      <td>http://steamcommunity.com/profiles/76561198326...</td>\n",
       "      <td>[{'item_id': '11020', 'item_name': 'TrackMania...</td>\n",
       "    </tr>\n",
       "    <tr>\n",
       "      <th>88307</th>\n",
       "      <td>XxLaughingJackClown77xX</td>\n",
       "      <td>0</td>\n",
       "      <td>76561198328759259</td>\n",
       "      <td>http://steamcommunity.com/id/XxLaughingJackClo...</td>\n",
       "      <td>[]</td>\n",
       "    </tr>\n",
       "    <tr>\n",
       "      <th>88308</th>\n",
       "      <td>76561198329548331</td>\n",
       "      <td>7</td>\n",
       "      <td>76561198329548331</td>\n",
       "      <td>http://steamcommunity.com/profiles/76561198329...</td>\n",
       "      <td>[{'item_id': '304930', 'item_name': 'Unturned'...</td>\n",
       "    </tr>\n",
       "    <tr>\n",
       "      <th>88309</th>\n",
       "      <td>edward_tremethick</td>\n",
       "      <td>0</td>\n",
       "      <td>76561198331598578</td>\n",
       "      <td>http://steamcommunity.com/id/edward_tremethick</td>\n",
       "      <td>[]</td>\n",
       "    </tr>\n",
       "  </tbody>\n",
       "</table>\n",
       "<p>88310 rows × 5 columns</p>\n",
       "</div>"
      ],
      "text/plain": [
       "                       user_id  items_count           steam_id  \\\n",
       "0            76561197970982479          277  76561197970982479   \n",
       "1                      js41637          888  76561198035864385   \n",
       "2                    evcentric          137  76561198007712555   \n",
       "3                   Riot-Punch          328  76561197963445855   \n",
       "4                        doctr          541  76561198002099482   \n",
       "...                        ...          ...                ...   \n",
       "88305        76561198323066619           22  76561198323066619   \n",
       "88306        76561198326700687          177  76561198326700687   \n",
       "88307  XxLaughingJackClown77xX            0  76561198328759259   \n",
       "88308        76561198329548331            7  76561198329548331   \n",
       "88309        edward_tremethick            0  76561198331598578   \n",
       "\n",
       "                                                user_url  \\\n",
       "0      http://steamcommunity.com/profiles/76561197970...   \n",
       "1                   http://steamcommunity.com/id/js41637   \n",
       "2                 http://steamcommunity.com/id/evcentric   \n",
       "3                http://steamcommunity.com/id/Riot-Punch   \n",
       "4                     http://steamcommunity.com/id/doctr   \n",
       "...                                                  ...   \n",
       "88305  http://steamcommunity.com/profiles/76561198323...   \n",
       "88306  http://steamcommunity.com/profiles/76561198326...   \n",
       "88307  http://steamcommunity.com/id/XxLaughingJackClo...   \n",
       "88308  http://steamcommunity.com/profiles/76561198329...   \n",
       "88309     http://steamcommunity.com/id/edward_tremethick   \n",
       "\n",
       "                                                   items  \n",
       "0      [{'item_id': '10', 'item_name': 'Counter-Strik...  \n",
       "1      [{'item_id': '10', 'item_name': 'Counter-Strik...  \n",
       "2      [{'item_id': '1200', 'item_name': 'Red Orchest...  \n",
       "3      [{'item_id': '10', 'item_name': 'Counter-Strik...  \n",
       "4      [{'item_id': '300', 'item_name': 'Day of Defea...  \n",
       "...                                                  ...  \n",
       "88305  [{'item_id': '413850', 'item_name': 'CS:GO Pla...  \n",
       "88306  [{'item_id': '11020', 'item_name': 'TrackMania...  \n",
       "88307                                                 []  \n",
       "88308  [{'item_id': '304930', 'item_name': 'Unturned'...  \n",
       "88309                                                 []  \n",
       "\n",
       "[88310 rows x 5 columns]"
      ]
     },
     "metadata": {},
     "output_type": "display_data"
    },
    {
     "data": {
      "text/html": [
       "<div>\n",
       "<style scoped>\n",
       "    .dataframe tbody tr th:only-of-type {\n",
       "        vertical-align: middle;\n",
       "    }\n",
       "\n",
       "    .dataframe tbody tr th {\n",
       "        vertical-align: top;\n",
       "    }\n",
       "\n",
       "    .dataframe thead th {\n",
       "        text-align: right;\n",
       "    }\n",
       "</style>\n",
       "<table border=\"1\" class=\"dataframe\">\n",
       "  <thead>\n",
       "    <tr style=\"text-align: right;\">\n",
       "      <th></th>\n",
       "      <th>publisher</th>\n",
       "      <th>genres</th>\n",
       "      <th>app_name</th>\n",
       "      <th>title</th>\n",
       "      <th>url</th>\n",
       "      <th>release_date</th>\n",
       "      <th>tags</th>\n",
       "      <th>reviews_url</th>\n",
       "      <th>specs</th>\n",
       "      <th>price</th>\n",
       "      <th>early_access</th>\n",
       "      <th>id</th>\n",
       "      <th>developer</th>\n",
       "    </tr>\n",
       "  </thead>\n",
       "  <tbody>\n",
       "    <tr>\n",
       "      <th>0</th>\n",
       "      <td>NaN</td>\n",
       "      <td>NaN</td>\n",
       "      <td>NaN</td>\n",
       "      <td>NaN</td>\n",
       "      <td>NaN</td>\n",
       "      <td>NaN</td>\n",
       "      <td>NaN</td>\n",
       "      <td>NaN</td>\n",
       "      <td>NaN</td>\n",
       "      <td>NaN</td>\n",
       "      <td>NaN</td>\n",
       "      <td>NaN</td>\n",
       "      <td>NaN</td>\n",
       "    </tr>\n",
       "    <tr>\n",
       "      <th>1</th>\n",
       "      <td>NaN</td>\n",
       "      <td>NaN</td>\n",
       "      <td>NaN</td>\n",
       "      <td>NaN</td>\n",
       "      <td>NaN</td>\n",
       "      <td>NaN</td>\n",
       "      <td>NaN</td>\n",
       "      <td>NaN</td>\n",
       "      <td>NaN</td>\n",
       "      <td>NaN</td>\n",
       "      <td>NaN</td>\n",
       "      <td>NaN</td>\n",
       "      <td>NaN</td>\n",
       "    </tr>\n",
       "    <tr>\n",
       "      <th>2</th>\n",
       "      <td>NaN</td>\n",
       "      <td>NaN</td>\n",
       "      <td>NaN</td>\n",
       "      <td>NaN</td>\n",
       "      <td>NaN</td>\n",
       "      <td>NaN</td>\n",
       "      <td>NaN</td>\n",
       "      <td>NaN</td>\n",
       "      <td>NaN</td>\n",
       "      <td>NaN</td>\n",
       "      <td>NaN</td>\n",
       "      <td>NaN</td>\n",
       "      <td>NaN</td>\n",
       "    </tr>\n",
       "    <tr>\n",
       "      <th>3</th>\n",
       "      <td>NaN</td>\n",
       "      <td>NaN</td>\n",
       "      <td>NaN</td>\n",
       "      <td>NaN</td>\n",
       "      <td>NaN</td>\n",
       "      <td>NaN</td>\n",
       "      <td>NaN</td>\n",
       "      <td>NaN</td>\n",
       "      <td>NaN</td>\n",
       "      <td>NaN</td>\n",
       "      <td>NaN</td>\n",
       "      <td>NaN</td>\n",
       "      <td>NaN</td>\n",
       "    </tr>\n",
       "    <tr>\n",
       "      <th>4</th>\n",
       "      <td>NaN</td>\n",
       "      <td>NaN</td>\n",
       "      <td>NaN</td>\n",
       "      <td>NaN</td>\n",
       "      <td>NaN</td>\n",
       "      <td>NaN</td>\n",
       "      <td>NaN</td>\n",
       "      <td>NaN</td>\n",
       "      <td>NaN</td>\n",
       "      <td>NaN</td>\n",
       "      <td>NaN</td>\n",
       "      <td>NaN</td>\n",
       "      <td>NaN</td>\n",
       "    </tr>\n",
       "    <tr>\n",
       "      <th>...</th>\n",
       "      <td>...</td>\n",
       "      <td>...</td>\n",
       "      <td>...</td>\n",
       "      <td>...</td>\n",
       "      <td>...</td>\n",
       "      <td>...</td>\n",
       "      <td>...</td>\n",
       "      <td>...</td>\n",
       "      <td>...</td>\n",
       "      <td>...</td>\n",
       "      <td>...</td>\n",
       "      <td>...</td>\n",
       "      <td>...</td>\n",
       "    </tr>\n",
       "    <tr>\n",
       "      <th>120440</th>\n",
       "      <td>Ghost_RUS Games</td>\n",
       "      <td>[Casual, Indie, Simulation, Strategy]</td>\n",
       "      <td>Colony On Mars</td>\n",
       "      <td>Colony On Mars</td>\n",
       "      <td>http://store.steampowered.com/app/773640/Colon...</td>\n",
       "      <td>2018-01-04</td>\n",
       "      <td>[Strategy, Indie, Casual, Simulation]</td>\n",
       "      <td>http://steamcommunity.com/app/773640/reviews/?...</td>\n",
       "      <td>[Single-player, Steam Achievements]</td>\n",
       "      <td>1.99</td>\n",
       "      <td>False</td>\n",
       "      <td>773640</td>\n",
       "      <td>Nikita \"Ghost_RUS\"</td>\n",
       "    </tr>\n",
       "    <tr>\n",
       "      <th>120441</th>\n",
       "      <td>Sacada</td>\n",
       "      <td>[Casual, Indie, Strategy]</td>\n",
       "      <td>LOGistICAL: South Africa</td>\n",
       "      <td>LOGistICAL: South Africa</td>\n",
       "      <td>http://store.steampowered.com/app/733530/LOGis...</td>\n",
       "      <td>2018-01-04</td>\n",
       "      <td>[Strategy, Indie, Casual]</td>\n",
       "      <td>http://steamcommunity.com/app/733530/reviews/?...</td>\n",
       "      <td>[Single-player, Steam Achievements, Steam Clou...</td>\n",
       "      <td>4.99</td>\n",
       "      <td>False</td>\n",
       "      <td>733530</td>\n",
       "      <td>Sacada</td>\n",
       "    </tr>\n",
       "    <tr>\n",
       "      <th>120442</th>\n",
       "      <td>Laush Studio</td>\n",
       "      <td>[Indie, Racing, Simulation]</td>\n",
       "      <td>Russian Roads</td>\n",
       "      <td>Russian Roads</td>\n",
       "      <td>http://store.steampowered.com/app/610660/Russi...</td>\n",
       "      <td>2018-01-04</td>\n",
       "      <td>[Indie, Simulation, Racing]</td>\n",
       "      <td>http://steamcommunity.com/app/610660/reviews/?...</td>\n",
       "      <td>[Single-player, Steam Achievements, Steam Trad...</td>\n",
       "      <td>1.99</td>\n",
       "      <td>False</td>\n",
       "      <td>610660</td>\n",
       "      <td>Laush Dmitriy Sergeevich</td>\n",
       "    </tr>\n",
       "    <tr>\n",
       "      <th>120443</th>\n",
       "      <td>SIXNAILS</td>\n",
       "      <td>[Casual, Indie]</td>\n",
       "      <td>EXIT 2 - Directions</td>\n",
       "      <td>EXIT 2 - Directions</td>\n",
       "      <td>http://store.steampowered.com/app/658870/EXIT_...</td>\n",
       "      <td>2017-09-02</td>\n",
       "      <td>[Indie, Casual, Puzzle, Singleplayer, Atmosphe...</td>\n",
       "      <td>http://steamcommunity.com/app/658870/reviews/?...</td>\n",
       "      <td>[Single-player, Steam Achievements, Steam Cloud]</td>\n",
       "      <td>4.99</td>\n",
       "      <td>False</td>\n",
       "      <td>658870</td>\n",
       "      <td>xropi,stev3ns</td>\n",
       "    </tr>\n",
       "    <tr>\n",
       "      <th>120444</th>\n",
       "      <td>NaN</td>\n",
       "      <td>NaN</td>\n",
       "      <td>Maze Run VR</td>\n",
       "      <td>NaN</td>\n",
       "      <td>http://store.steampowered.com/app/681550/Maze_...</td>\n",
       "      <td>NaN</td>\n",
       "      <td>[Early Access, Adventure, Indie, Action, Simul...</td>\n",
       "      <td>http://steamcommunity.com/app/681550/reviews/?...</td>\n",
       "      <td>[Single-player, Stats, Steam Leaderboards, HTC...</td>\n",
       "      <td>4.99</td>\n",
       "      <td>True</td>\n",
       "      <td>681550</td>\n",
       "      <td>NaN</td>\n",
       "    </tr>\n",
       "  </tbody>\n",
       "</table>\n",
       "<p>120445 rows × 13 columns</p>\n",
       "</div>"
      ],
      "text/plain": [
       "              publisher                                 genres  \\\n",
       "0                   NaN                                    NaN   \n",
       "1                   NaN                                    NaN   \n",
       "2                   NaN                                    NaN   \n",
       "3                   NaN                                    NaN   \n",
       "4                   NaN                                    NaN   \n",
       "...                 ...                                    ...   \n",
       "120440  Ghost_RUS Games  [Casual, Indie, Simulation, Strategy]   \n",
       "120441           Sacada              [Casual, Indie, Strategy]   \n",
       "120442     Laush Studio            [Indie, Racing, Simulation]   \n",
       "120443         SIXNAILS                        [Casual, Indie]   \n",
       "120444              NaN                                    NaN   \n",
       "\n",
       "                        app_name                     title  \\\n",
       "0                            NaN                       NaN   \n",
       "1                            NaN                       NaN   \n",
       "2                            NaN                       NaN   \n",
       "3                            NaN                       NaN   \n",
       "4                            NaN                       NaN   \n",
       "...                          ...                       ...   \n",
       "120440            Colony On Mars            Colony On Mars   \n",
       "120441  LOGistICAL: South Africa  LOGistICAL: South Africa   \n",
       "120442             Russian Roads             Russian Roads   \n",
       "120443       EXIT 2 - Directions       EXIT 2 - Directions   \n",
       "120444               Maze Run VR                       NaN   \n",
       "\n",
       "                                                      url release_date  \\\n",
       "0                                                     NaN          NaN   \n",
       "1                                                     NaN          NaN   \n",
       "2                                                     NaN          NaN   \n",
       "3                                                     NaN          NaN   \n",
       "4                                                     NaN          NaN   \n",
       "...                                                   ...          ...   \n",
       "120440  http://store.steampowered.com/app/773640/Colon...   2018-01-04   \n",
       "120441  http://store.steampowered.com/app/733530/LOGis...   2018-01-04   \n",
       "120442  http://store.steampowered.com/app/610660/Russi...   2018-01-04   \n",
       "120443  http://store.steampowered.com/app/658870/EXIT_...   2017-09-02   \n",
       "120444  http://store.steampowered.com/app/681550/Maze_...          NaN   \n",
       "\n",
       "                                                     tags  \\\n",
       "0                                                     NaN   \n",
       "1                                                     NaN   \n",
       "2                                                     NaN   \n",
       "3                                                     NaN   \n",
       "4                                                     NaN   \n",
       "...                                                   ...   \n",
       "120440              [Strategy, Indie, Casual, Simulation]   \n",
       "120441                          [Strategy, Indie, Casual]   \n",
       "120442                        [Indie, Simulation, Racing]   \n",
       "120443  [Indie, Casual, Puzzle, Singleplayer, Atmosphe...   \n",
       "120444  [Early Access, Adventure, Indie, Action, Simul...   \n",
       "\n",
       "                                              reviews_url  \\\n",
       "0                                                     NaN   \n",
       "1                                                     NaN   \n",
       "2                                                     NaN   \n",
       "3                                                     NaN   \n",
       "4                                                     NaN   \n",
       "...                                                   ...   \n",
       "120440  http://steamcommunity.com/app/773640/reviews/?...   \n",
       "120441  http://steamcommunity.com/app/733530/reviews/?...   \n",
       "120442  http://steamcommunity.com/app/610660/reviews/?...   \n",
       "120443  http://steamcommunity.com/app/658870/reviews/?...   \n",
       "120444  http://steamcommunity.com/app/681550/reviews/?...   \n",
       "\n",
       "                                                    specs price early_access  \\\n",
       "0                                                     NaN   NaN          NaN   \n",
       "1                                                     NaN   NaN          NaN   \n",
       "2                                                     NaN   NaN          NaN   \n",
       "3                                                     NaN   NaN          NaN   \n",
       "4                                                     NaN   NaN          NaN   \n",
       "...                                                   ...   ...          ...   \n",
       "120440                [Single-player, Steam Achievements]  1.99        False   \n",
       "120441  [Single-player, Steam Achievements, Steam Clou...  4.99        False   \n",
       "120442  [Single-player, Steam Achievements, Steam Trad...  1.99        False   \n",
       "120443   [Single-player, Steam Achievements, Steam Cloud]  4.99        False   \n",
       "120444  [Single-player, Stats, Steam Leaderboards, HTC...  4.99         True   \n",
       "\n",
       "            id                 developer  \n",
       "0          NaN                       NaN  \n",
       "1          NaN                       NaN  \n",
       "2          NaN                       NaN  \n",
       "3          NaN                       NaN  \n",
       "4          NaN                       NaN  \n",
       "...        ...                       ...  \n",
       "120440  773640        Nikita \"Ghost_RUS\"  \n",
       "120441  733530                    Sacada  \n",
       "120442  610660  Laush Dmitriy Sergeevich  \n",
       "120443  658870             xropi,stev3ns  \n",
       "120444  681550                       NaN  \n",
       "\n",
       "[120445 rows x 13 columns]"
      ]
     },
     "metadata": {},
     "output_type": "display_data"
    }
   ],
   "source": [
    "# Especificamos la ruta de los archivos comprimidos\n",
    "carpeta = \"..\\PI_MLOps-STEAM_DATA\"\n",
    "archivo1 = os.path.join(carpeta, \"user_reviews.json.gz\")\n",
    "archivo2 = os.path.join(carpeta, \"users_items.json.gz\")\n",
    "archivo3 = os.path.join(carpeta, \"steam_games.json.gz\")\n",
    "\n",
    "# Llamamos a la función para abrir y descomprimir los archivos\n",
    "data1 = abrir_python(archivo1)\n",
    "data2 = abrir_python(archivo2)\n",
    "data3 = abrir_games(archivo3)\n",
    "\n",
    "# Creamos un DataFrame a partir de los datos\n",
    "df_revi = pd.DataFrame(data1)\n",
    "df_item = pd.DataFrame(data2)\n",
    "df_game = pd.DataFrame(data3)\n",
    "\n",
    "# Mostramos el DataFrame\n",
    "display(df_revi)\n",
    "display(df_item)\n",
    "display(df_game)\n"
   ]
  },
  {
   "cell_type": "markdown",
   "metadata": {},
   "source": [
    "\n",
    "    Desenlace de df\"s para que sea más fácil volver a cargarlos al trabajarlos."
   ]
  },
  {
   "cell_type": "code",
   "execution_count": 5,
   "metadata": {},
   "outputs": [],
   "source": [
    "df_reviews = df_revi\n",
    "df_items = df_item\n",
    "df_games = df_game"
   ]
  },
  {
   "cell_type": "markdown",
   "metadata": {},
   "source": [
    "# 2 - Transformación (Transform):"
   ]
  },
  {
   "cell_type": "markdown",
   "metadata": {},
   "source": [
    "## a) Desanidación de diccionarios internos:"
   ]
  },
  {
   "cell_type": "markdown",
   "metadata": {},
   "source": [
    "    Función que extrae valores de una columna de un DataFrame que contiene listas de diccionarios en una columna específica y crea nuevas columnas para cada clave especificada."
   ]
  },
  {
   "cell_type": "code",
   "execution_count": 6,
   "metadata": {},
   "outputs": [],
   "source": [
    "def extraer_diccionarios(df, columna_dicc, keys, nuevas_columnas):\n",
    "\n",
    "    # Creamos una lista de diccionarios para almacenar las filas extraídas\n",
    "    filas_reviews = []\n",
    "    \n",
    "    # Iterar a través de las filas del DataFrame df_ \n",
    "    for indice, row in df.iterrows():\n",
    "        reviews = row[columna_dicc]\n",
    "        user_id = row[\"user_id\"]\n",
    "\n",
    "        # Comprobar si \"items\" es una lista de diccionarios\n",
    "        if isinstance(reviews, list):\n",
    "            # Iteramos entre filas del df_ \n",
    "            for item in reviews:\n",
    "                fila_extraida = {\"user_id\": user_id}\n",
    "                # Iteramos entre filas de la columna diccionario \n",
    "                for key, name in zip(keys, nuevas_columnas):\n",
    "                    # Busco el par clave valor...\n",
    "                    par_clave_valor = item.get(key, \"\")\n",
    "                    # ... y lo agrego a la lista con los user_id\n",
    "                    fila_extraida[name] = par_clave_valor\n",
    "                    # Guardo todo en una lista\n",
    "                filas_reviews.append(fila_extraida)\n",
    "\n",
    "    # Crear un nuevo DataFrame a partir de la lista de diccionarios\n",
    "    df_nuevo = pd.DataFrame(filas_reviews)\n",
    "\n",
    "    return df_nuevo"
   ]
  },
  {
   "cell_type": "markdown",
   "metadata": {},
   "source": [
    "## b) - Extracción de Reviews en Users Reviews"
   ]
  },
  {
   "cell_type": "code",
   "execution_count": 7,
   "metadata": {},
   "outputs": [
    {
     "data": {
      "text/html": [
       "<div>\n",
       "<style scoped>\n",
       "    .dataframe tbody tr th:only-of-type {\n",
       "        vertical-align: middle;\n",
       "    }\n",
       "\n",
       "    .dataframe tbody tr th {\n",
       "        vertical-align: top;\n",
       "    }\n",
       "\n",
       "    .dataframe thead th {\n",
       "        text-align: right;\n",
       "    }\n",
       "</style>\n",
       "<table border=\"1\" class=\"dataframe\">\n",
       "  <thead>\n",
       "    <tr style=\"text-align: right;\">\n",
       "      <th></th>\n",
       "      <th>user_id</th>\n",
       "      <th>funny</th>\n",
       "      <th>posted</th>\n",
       "      <th>last_edited</th>\n",
       "      <th>item_id</th>\n",
       "      <th>helpful</th>\n",
       "      <th>recommend</th>\n",
       "      <th>review</th>\n",
       "    </tr>\n",
       "  </thead>\n",
       "  <tbody>\n",
       "    <tr>\n",
       "      <th>0</th>\n",
       "      <td>76561197970982479</td>\n",
       "      <td></td>\n",
       "      <td>Posted November 5, 2011.</td>\n",
       "      <td></td>\n",
       "      <td>1250</td>\n",
       "      <td>No ratings yet</td>\n",
       "      <td>True</td>\n",
       "      <td>Simple yet with great replayability. In my opi...</td>\n",
       "    </tr>\n",
       "    <tr>\n",
       "      <th>1</th>\n",
       "      <td>76561197970982479</td>\n",
       "      <td></td>\n",
       "      <td>Posted July 15, 2011.</td>\n",
       "      <td></td>\n",
       "      <td>22200</td>\n",
       "      <td>No ratings yet</td>\n",
       "      <td>True</td>\n",
       "      <td>It's unique and worth a playthrough.</td>\n",
       "    </tr>\n",
       "    <tr>\n",
       "      <th>2</th>\n",
       "      <td>76561197970982479</td>\n",
       "      <td></td>\n",
       "      <td>Posted April 21, 2011.</td>\n",
       "      <td></td>\n",
       "      <td>43110</td>\n",
       "      <td>No ratings yet</td>\n",
       "      <td>True</td>\n",
       "      <td>Great atmosphere. The gunplay can be a bit chu...</td>\n",
       "    </tr>\n",
       "    <tr>\n",
       "      <th>3</th>\n",
       "      <td>js41637</td>\n",
       "      <td></td>\n",
       "      <td>Posted June 24, 2014.</td>\n",
       "      <td></td>\n",
       "      <td>251610</td>\n",
       "      <td>15 of 20 people (75%) found this review helpful</td>\n",
       "      <td>True</td>\n",
       "      <td>I know what you think when you see this title ...</td>\n",
       "    </tr>\n",
       "    <tr>\n",
       "      <th>4</th>\n",
       "      <td>js41637</td>\n",
       "      <td></td>\n",
       "      <td>Posted September 8, 2013.</td>\n",
       "      <td></td>\n",
       "      <td>227300</td>\n",
       "      <td>0 of 1 people (0%) found this review helpful</td>\n",
       "      <td>True</td>\n",
       "      <td>For a simple (it's actually not all that simpl...</td>\n",
       "    </tr>\n",
       "  </tbody>\n",
       "</table>\n",
       "</div>"
      ],
      "text/plain": [
       "             user_id funny                     posted last_edited item_id  \\\n",
       "0  76561197970982479         Posted November 5, 2011.                1250   \n",
       "1  76561197970982479            Posted July 15, 2011.               22200   \n",
       "2  76561197970982479           Posted April 21, 2011.               43110   \n",
       "3            js41637            Posted June 24, 2014.              251610   \n",
       "4            js41637        Posted September 8, 2013.              227300   \n",
       "\n",
       "                                           helpful  recommend  \\\n",
       "0                                   No ratings yet       True   \n",
       "1                                   No ratings yet       True   \n",
       "2                                   No ratings yet       True   \n",
       "3  15 of 20 people (75%) found this review helpful       True   \n",
       "4     0 of 1 people (0%) found this review helpful       True   \n",
       "\n",
       "                                              review  \n",
       "0  Simple yet with great replayability. In my opi...  \n",
       "1               It's unique and worth a playthrough.  \n",
       "2  Great atmosphere. The gunplay can be a bit chu...  \n",
       "3  I know what you think when you see this title ...  \n",
       "4  For a simple (it's actually not all that simpl...  "
      ]
     },
     "execution_count": 7,
     "metadata": {},
     "output_type": "execute_result"
    }
   ],
   "source": [
    "keys = [\"funny\", \"posted\", \"last_edited\", \"item_id\", \"helpful\", \"recommend\", \"review\"]\n",
    "nuevas_columnas = [\"funny\", \"posted\", \"last_edited\", \"item_id\", \"helpful\", \"recommend\", \"review\"]\n",
    "df_reviews_reviews = extraer_diccionarios(df_reviews, \"reviews\", keys, nuevas_columnas)\n",
    "\n",
    "# Mostrar el DataFrame resultante\n",
    "df_reviews_reviews.head()"
   ]
  },
  {
   "cell_type": "markdown",
   "metadata": {},
   "source": [
    "## c) - Extraccióm de Items en User Items"
   ]
  },
  {
   "cell_type": "code",
   "execution_count": 8,
   "metadata": {},
   "outputs": [
    {
     "data": {
      "text/html": [
       "<div>\n",
       "<style scoped>\n",
       "    .dataframe tbody tr th:only-of-type {\n",
       "        vertical-align: middle;\n",
       "    }\n",
       "\n",
       "    .dataframe tbody tr th {\n",
       "        vertical-align: top;\n",
       "    }\n",
       "\n",
       "    .dataframe thead th {\n",
       "        text-align: right;\n",
       "    }\n",
       "</style>\n",
       "<table border=\"1\" class=\"dataframe\">\n",
       "  <thead>\n",
       "    <tr style=\"text-align: right;\">\n",
       "      <th></th>\n",
       "      <th>user_id</th>\n",
       "      <th>item_id</th>\n",
       "      <th>item_name</th>\n",
       "      <th>playtime_forever</th>\n",
       "      <th>playtime_2weeks</th>\n",
       "    </tr>\n",
       "  </thead>\n",
       "  <tbody>\n",
       "    <tr>\n",
       "      <th>0</th>\n",
       "      <td>76561197970982479</td>\n",
       "      <td>10</td>\n",
       "      <td>Counter-Strike</td>\n",
       "      <td>6</td>\n",
       "      <td>0</td>\n",
       "    </tr>\n",
       "    <tr>\n",
       "      <th>1</th>\n",
       "      <td>76561197970982479</td>\n",
       "      <td>20</td>\n",
       "      <td>Team Fortress Classic</td>\n",
       "      <td>0</td>\n",
       "      <td>0</td>\n",
       "    </tr>\n",
       "    <tr>\n",
       "      <th>2</th>\n",
       "      <td>76561197970982479</td>\n",
       "      <td>30</td>\n",
       "      <td>Day of Defeat</td>\n",
       "      <td>7</td>\n",
       "      <td>0</td>\n",
       "    </tr>\n",
       "    <tr>\n",
       "      <th>3</th>\n",
       "      <td>76561197970982479</td>\n",
       "      <td>40</td>\n",
       "      <td>Deathmatch Classic</td>\n",
       "      <td>0</td>\n",
       "      <td>0</td>\n",
       "    </tr>\n",
       "    <tr>\n",
       "      <th>4</th>\n",
       "      <td>76561197970982479</td>\n",
       "      <td>50</td>\n",
       "      <td>Half-Life: Opposing Force</td>\n",
       "      <td>0</td>\n",
       "      <td>0</td>\n",
       "    </tr>\n",
       "  </tbody>\n",
       "</table>\n",
       "</div>"
      ],
      "text/plain": [
       "             user_id item_id                  item_name  playtime_forever  \\\n",
       "0  76561197970982479      10             Counter-Strike                 6   \n",
       "1  76561197970982479      20      Team Fortress Classic                 0   \n",
       "2  76561197970982479      30              Day of Defeat                 7   \n",
       "3  76561197970982479      40         Deathmatch Classic                 0   \n",
       "4  76561197970982479      50  Half-Life: Opposing Force                 0   \n",
       "\n",
       "   playtime_2weeks  \n",
       "0                0  \n",
       "1                0  \n",
       "2                0  \n",
       "3                0  \n",
       "4                0  "
      ]
     },
     "execution_count": 8,
     "metadata": {},
     "output_type": "execute_result"
    }
   ],
   "source": [
    "keys = [\"item_id\", \"item_name\", \"playtime_forever\", \"playtime_2weeks\"]\n",
    "nuevas_columnas = [\"item_id\", \"item_name\", \"playtime_forever\", \"playtime_2weeks\", \"user_id\"]\n",
    "df_items_items = extraer_diccionarios(df_items, \"items\", keys, nuevas_columnas)\n",
    "\n",
    "# Mostrar el DataFrame resultante\n",
    "df_items_items.head()"
   ]
  },
  {
   "cell_type": "markdown",
   "metadata": {},
   "source": [
    "## d) Transformación de \"price\" a float en df_games"
   ]
  },
  {
   "cell_type": "markdown",
   "metadata": {},
   "source": [
    "    Reemplazar \"Free To Play\" por \"0\" y luego convertir la columna a float:"
   ]
  },
  {
   "cell_type": "code",
   "execution_count": 9,
   "metadata": {},
   "outputs": [
    {
     "name": "stdout",
     "output_type": "stream",
     "text": [
      "float64\n"
     ]
    }
   ],
   "source": [
    "def reemplaza_free_to_play(price):\n",
    "\n",
    "  if price == \"Free To Play\":\n",
    "    return 0\n",
    "  else:\n",
    "    return price\n",
    "\n",
    "\n",
    "df_games[\"price\"] = df_games[\"price\"].apply(reemplaza_free_to_play)\n",
    "df_games[\"price\"] = pd.to_numeric(df_games[\"price\"], errors=\"coerce\")\n",
    "print(df_games[\"price\"].dtype)"
   ]
  },
  {
   "cell_type": "markdown",
   "metadata": {},
   "source": [
    "## e) Eliminar Filas Nulas"
   ]
  },
  {
   "cell_type": "markdown",
   "metadata": {},
   "source": [
    "    Este apartado elimina la fila del df que contenga almenos un falor nulo en los datos. No debería quedar ninguna fila con almenos un valor nulo."
   ]
  },
  {
   "cell_type": "code",
   "execution_count": 10,
   "metadata": {},
   "outputs": [
    {
     "name": "stdout",
     "output_type": "stream",
     "text": [
      "Antes:\n",
      "- df_reviews:  25799\n",
      "- df_reviews_reviews:  59305\n",
      "- df_items:  88310\n",
      "- df_items_items:  5153209\n",
      "- df_games:  120445\n",
      "Despues:\n",
      "- df_reviews:  25799\n",
      "- df_reviews_reviews:  59305\n",
      "- df_items:  88310\n",
      "- df_items_items:  5153209\n",
      "- df_games:  21559\n"
     ]
    }
   ],
   "source": [
    "print(\"Antes:\")\n",
    "print(\"- df_reviews: \", len(df_reviews))\n",
    "print(\"- df_reviews_reviews: \", len(df_reviews_reviews))\n",
    "print(\"- df_items: \", len(df_items))\n",
    "print(\"- df_items_items: \", len(df_items_items))\n",
    "print(\"- df_games: \", len(df_games))\n",
    "\n",
    "# Eliminar filas con al menos un valor nulo en df_reviews\n",
    "df_reviews = df_reviews.dropna(axis=0, how=\"any\")\n",
    "\n",
    "# Eliminar filas con al menos un valor nulo en df_reviews\n",
    "df_reviews_reviews = df_reviews_reviews.dropna(axis=0, how=\"any\")\n",
    "\n",
    "# Eliminar filas con al menos un valor nulo en df_items\n",
    "df_items = df_items.dropna(axis=0, how=\"any\")\n",
    "\n",
    "# Eliminar filas con al menos un valor nulo en df_items\n",
    "df_items_items = df_items_items.dropna(axis=0, how=\"any\")\n",
    "\n",
    "# Eliminar filas con al menos un valor nulo en df_games\n",
    "df_games = df_games.dropna(axis=0, how=\"any\")\n",
    "\n",
    "print(\"Despues:\")\n",
    "print(\"- df_reviews: \", len(df_reviews))\n",
    "print(\"- df_reviews_reviews: \", len(df_reviews_reviews))\n",
    "print(\"- df_items: \", len(df_items))\n",
    "print(\"- df_items_items: \", len(df_items_items))\n",
    "print(\"- df_games: \", len(df_games))"
   ]
  },
  {
   "cell_type": "markdown",
   "metadata": {},
   "source": [
    "## f) Detectar filas duplicadas en un DataFrame."
   ]
  },
  {
   "cell_type": "code",
   "execution_count": 11,
   "metadata": {},
   "outputs": [
    {
     "name": "stdout",
     "output_type": "stream",
     "text": [
      "59305\n",
      "58431\n"
     ]
    }
   ],
   "source": [
    "print(len(df_reviews_reviews))\n",
    "df_reviews_reviews = df_reviews_reviews.drop_duplicates(subset=[\"user_id\", \"item_id\"])\n",
    "print(len(df_reviews_reviews))"
   ]
  },
  {
   "cell_type": "code",
   "execution_count": 12,
   "metadata": {},
   "outputs": [
    {
     "name": "stdout",
     "output_type": "stream",
     "text": [
      "5153209\n",
      "5094082\n"
     ]
    }
   ],
   "source": [
    "print(len(df_items_items))\n",
    "df_items_items = df_items_items.drop_duplicates(subset=[\"user_id\", \"item_id\"])\n",
    "print(len(df_items_items))"
   ]
  },
  {
   "cell_type": "code",
   "execution_count": 13,
   "metadata": {},
   "outputs": [
    {
     "name": "stdout",
     "output_type": "stream",
     "text": [
      "21559\n",
      "21558\n"
     ]
    }
   ],
   "source": [
    "print(len(df_games))\n",
    "df_games = df_games.drop_duplicates(subset=[\"id\"])\n",
    "print(len(df_games))"
   ]
  },
  {
   "cell_type": "code",
   "execution_count": 14,
   "metadata": {},
   "outputs": [
    {
     "name": "stdout",
     "output_type": "stream",
     "text": [
      "25799\n",
      "25485\n"
     ]
    }
   ],
   "source": [
    "print(len(df_reviews))\n",
    "df_reviews = df_reviews.drop_duplicates(subset=[\"user_id\", \"user_url\"])\n",
    "print(len(df_reviews))"
   ]
  },
  {
   "cell_type": "code",
   "execution_count": 15,
   "metadata": {},
   "outputs": [
    {
     "name": "stdout",
     "output_type": "stream",
     "text": [
      "88310\n",
      "87625\n"
     ]
    }
   ],
   "source": [
    "print(len(df_items))\n",
    "df_items = df_items.sort_values(by=\"items_count\", ascending=False)\n",
    "df_items = df_items.drop_duplicates(subset=\"steam_id\", keep=\"last\")\n",
    "print(len(df_items))"
   ]
  },
  {
   "cell_type": "markdown",
   "metadata": {},
   "source": [
    "## g) Transformacion de la fecha de df_reviews_reviews"
   ]
  },
  {
   "cell_type": "markdown",
   "metadata": {},
   "source": [
    "    Debido a que utilizaremos la fecha para algunas de las funciones debemos mantener un formato correcto para su utilización."
   ]
  },
  {
   "cell_type": "code",
   "execution_count": 16,
   "metadata": {},
   "outputs": [],
   "source": [
    "# Función para convertir la fecha\n",
    "def convert_date(date_str):\n",
    "    # Utilizar expresiones regulares para extraer el mes, día y anio\n",
    "    match = re.search(r\"(\\w+) (\\d{1,2}), (\\d{4})\", date_str)\n",
    "    if match:\n",
    "        month_str, day_str, year_str = match.groups()\n",
    "        \n",
    "        # Mapear nombres de meses a números\n",
    "        dicc_mes = {\n",
    "            \"January\": \"01\",\n",
    "            \"February\": \"02\",\n",
    "            \"March\": \"03\",\n",
    "            \"April\": \"04\",\n",
    "            \"May\": \"05\",\n",
    "            \"June\": \"06\",\n",
    "            \"July\": \"07\",\n",
    "            \"August\": \"08\",\n",
    "            \"September\": \"09\",\n",
    "            \"October\": \"10\",\n",
    "            \"November\": \"11\",\n",
    "            \"December\": \"12\"\n",
    "        }\n",
    "        \n",
    "        # Formatear la fecha como \"YYYY/MM/DD\"\n",
    "        fecha_formateada = f\"{year_str}/{dicc_mes[month_str]}/{day_str}\"\n",
    "        \n",
    "        return fecha_formateada\n",
    "    else:\n",
    "        return None"
   ]
  },
  {
   "cell_type": "code",
   "execution_count": 17,
   "metadata": {},
   "outputs": [
    {
     "name": "stdout",
     "output_type": "stream",
     "text": [
      "                 user_id                             funny      posted  \\\n",
      "0      76561197970982479                                     2011/11/5   \n",
      "1      76561197970982479                                    2011/07/15   \n",
      "2      76561197970982479                                    2011/04/21   \n",
      "3                js41637                                    2014/06/24   \n",
      "4                js41637                                     2013/09/8   \n",
      "...                  ...                               ...         ...   \n",
      "59300  76561198312638244                                          None   \n",
      "59301  76561198312638244                                          None   \n",
      "59302        LydiaMorley  1 person found this review funny        None   \n",
      "59303        LydiaMorley                                          None   \n",
      "59304        LydiaMorley                                          None   \n",
      "\n",
      "      last_edited item_id                                          helpful  \\\n",
      "0                    1250                                   No ratings yet   \n",
      "1                   22200                                   No ratings yet   \n",
      "2                   43110                                   No ratings yet   \n",
      "3                  251610  15 of 20 people (75%) found this review helpful   \n",
      "4                  227300     0 of 1 people (0%) found this review helpful   \n",
      "...           ...     ...                                              ...   \n",
      "59300                  70                                   No ratings yet   \n",
      "59301              362890                                   No ratings yet   \n",
      "59302              273110    1 of 2 people (50%) found this review helpful   \n",
      "59303                 730                                   No ratings yet   \n",
      "59304                 440                                   No ratings yet   \n",
      "\n",
      "       recommend                                             review  \n",
      "0           True  Simple yet with great replayability. In my opi...  \n",
      "1           True               It's unique and worth a playthrough.  \n",
      "2           True  Great atmosphere. The gunplay can be a bit chu...  \n",
      "3           True  I know what you think when you see this title ...  \n",
      "4           True  For a simple (it's actually not all that simpl...  \n",
      "...          ...                                                ...  \n",
      "59300       True  a must have classic from steam definitely wort...  \n",
      "59301       True  this game is a perfect remake of the original ...  \n",
      "59302       True  had so much fun plaing this and collecting res...  \n",
      "59303       True                                                 :D  \n",
      "59304       True                                     so much fun :D  \n",
      "\n",
      "[58431 rows x 8 columns]\n"
     ]
    }
   ],
   "source": [
    "# Aplicar la función a la columna \"posted\" del DataFrame\n",
    "df_reviews_reviews[\"posted\"] = df_reviews_reviews[\"posted\"].apply(convert_date)\n",
    "print(df_reviews_reviews)"
   ]
  },
  {
   "cell_type": "markdown",
   "metadata": {},
   "source": [
    "## h) Eliminacón de columnas Desanidadas"
   ]
  },
  {
   "cell_type": "code",
   "execution_count": 18,
   "metadata": {},
   "outputs": [
    {
     "data": {
      "text/html": [
       "<div>\n",
       "<style scoped>\n",
       "    .dataframe tbody tr th:only-of-type {\n",
       "        vertical-align: middle;\n",
       "    }\n",
       "\n",
       "    .dataframe tbody tr th {\n",
       "        vertical-align: top;\n",
       "    }\n",
       "\n",
       "    .dataframe thead th {\n",
       "        text-align: right;\n",
       "    }\n",
       "</style>\n",
       "<table border=\"1\" class=\"dataframe\">\n",
       "  <thead>\n",
       "    <tr style=\"text-align: right;\">\n",
       "      <th></th>\n",
       "      <th>user_id</th>\n",
       "      <th>items_count</th>\n",
       "      <th>steam_id</th>\n",
       "      <th>user_url</th>\n",
       "    </tr>\n",
       "  </thead>\n",
       "  <tbody>\n",
       "    <tr>\n",
       "      <th>3708</th>\n",
       "      <td>phrostb</td>\n",
       "      <td>7762</td>\n",
       "      <td>76561198102767019</td>\n",
       "      <td>http://steamcommunity.com/id/phrostb</td>\n",
       "    </tr>\n",
       "    <tr>\n",
       "      <th>19055</th>\n",
       "      <td>thugnificent</td>\n",
       "      <td>6700</td>\n",
       "      <td>76561198000537256</td>\n",
       "      <td>http://steamcommunity.com/id/thugnificent</td>\n",
       "    </tr>\n",
       "    <tr>\n",
       "      <th>1104</th>\n",
       "      <td>chidvd</td>\n",
       "      <td>6410</td>\n",
       "      <td>76561198001518866</td>\n",
       "      <td>http://steamcommunity.com/id/chidvd</td>\n",
       "    </tr>\n",
       "    <tr>\n",
       "      <th>6022</th>\n",
       "      <td>piepai</td>\n",
       "      <td>6132</td>\n",
       "      <td>76561198118965684</td>\n",
       "      <td>http://steamcommunity.com/id/piepai</td>\n",
       "    </tr>\n",
       "    <tr>\n",
       "      <th>5995</th>\n",
       "      <td>mayshowganmore</td>\n",
       "      <td>5027</td>\n",
       "      <td>76561198048151962</td>\n",
       "      <td>http://steamcommunity.com/id/mayshowganmore</td>\n",
       "    </tr>\n",
       "    <tr>\n",
       "      <th>...</th>\n",
       "      <td>...</td>\n",
       "      <td>...</td>\n",
       "      <td>...</td>\n",
       "      <td>...</td>\n",
       "    </tr>\n",
       "    <tr>\n",
       "      <th>64247</th>\n",
       "      <td>76561198068729484</td>\n",
       "      <td>0</td>\n",
       "      <td>76561198068729484</td>\n",
       "      <td>http://steamcommunity.com/profiles/76561198068...</td>\n",
       "    </tr>\n",
       "    <tr>\n",
       "      <th>28383</th>\n",
       "      <td>76561198052591193</td>\n",
       "      <td>0</td>\n",
       "      <td>76561198052591193</td>\n",
       "      <td>http://steamcommunity.com/profiles/76561198052...</td>\n",
       "    </tr>\n",
       "    <tr>\n",
       "      <th>64244</th>\n",
       "      <td>76561198068726861</td>\n",
       "      <td>0</td>\n",
       "      <td>76561198068726861</td>\n",
       "      <td>http://steamcommunity.com/profiles/76561198068...</td>\n",
       "    </tr>\n",
       "    <tr>\n",
       "      <th>6127</th>\n",
       "      <td>76561198072031386</td>\n",
       "      <td>0</td>\n",
       "      <td>76561198072031386</td>\n",
       "      <td>http://steamcommunity.com/profiles/76561198072...</td>\n",
       "    </tr>\n",
       "    <tr>\n",
       "      <th>88309</th>\n",
       "      <td>edward_tremethick</td>\n",
       "      <td>0</td>\n",
       "      <td>76561198331598578</td>\n",
       "      <td>http://steamcommunity.com/id/edward_tremethick</td>\n",
       "    </tr>\n",
       "  </tbody>\n",
       "</table>\n",
       "<p>87625 rows × 4 columns</p>\n",
       "</div>"
      ],
      "text/plain": [
       "                 user_id  items_count           steam_id  \\\n",
       "3708             phrostb         7762  76561198102767019   \n",
       "19055       thugnificent         6700  76561198000537256   \n",
       "1104              chidvd         6410  76561198001518866   \n",
       "6022              piepai         6132  76561198118965684   \n",
       "5995      mayshowganmore         5027  76561198048151962   \n",
       "...                  ...          ...                ...   \n",
       "64247  76561198068729484            0  76561198068729484   \n",
       "28383  76561198052591193            0  76561198052591193   \n",
       "64244  76561198068726861            0  76561198068726861   \n",
       "6127   76561198072031386            0  76561198072031386   \n",
       "88309  edward_tremethick            0  76561198331598578   \n",
       "\n",
       "                                                user_url  \n",
       "3708                http://steamcommunity.com/id/phrostb  \n",
       "19055          http://steamcommunity.com/id/thugnificent  \n",
       "1104                 http://steamcommunity.com/id/chidvd  \n",
       "6022                 http://steamcommunity.com/id/piepai  \n",
       "5995         http://steamcommunity.com/id/mayshowganmore  \n",
       "...                                                  ...  \n",
       "64247  http://steamcommunity.com/profiles/76561198068...  \n",
       "28383  http://steamcommunity.com/profiles/76561198052...  \n",
       "64244  http://steamcommunity.com/profiles/76561198068...  \n",
       "6127   http://steamcommunity.com/profiles/76561198072...  \n",
       "88309     http://steamcommunity.com/id/edward_tremethick  \n",
       "\n",
       "[87625 rows x 4 columns]"
      ]
     },
     "execution_count": 18,
     "metadata": {},
     "output_type": "execute_result"
    }
   ],
   "source": [
    "df_items = df_items.drop(\"items\", axis=1)\n",
    "df_items"
   ]
  },
  {
   "cell_type": "code",
   "execution_count": 19,
   "metadata": {},
   "outputs": [
    {
     "data": {
      "text/html": [
       "<div>\n",
       "<style scoped>\n",
       "    .dataframe tbody tr th:only-of-type {\n",
       "        vertical-align: middle;\n",
       "    }\n",
       "\n",
       "    .dataframe tbody tr th {\n",
       "        vertical-align: top;\n",
       "    }\n",
       "\n",
       "    .dataframe thead th {\n",
       "        text-align: right;\n",
       "    }\n",
       "</style>\n",
       "<table border=\"1\" class=\"dataframe\">\n",
       "  <thead>\n",
       "    <tr style=\"text-align: right;\">\n",
       "      <th></th>\n",
       "      <th>user_id</th>\n",
       "      <th>user_url</th>\n",
       "    </tr>\n",
       "  </thead>\n",
       "  <tbody>\n",
       "    <tr>\n",
       "      <th>0</th>\n",
       "      <td>76561197970982479</td>\n",
       "      <td>http://steamcommunity.com/profiles/76561197970...</td>\n",
       "    </tr>\n",
       "    <tr>\n",
       "      <th>1</th>\n",
       "      <td>js41637</td>\n",
       "      <td>http://steamcommunity.com/id/js41637</td>\n",
       "    </tr>\n",
       "    <tr>\n",
       "      <th>2</th>\n",
       "      <td>evcentric</td>\n",
       "      <td>http://steamcommunity.com/id/evcentric</td>\n",
       "    </tr>\n",
       "    <tr>\n",
       "      <th>3</th>\n",
       "      <td>doctr</td>\n",
       "      <td>http://steamcommunity.com/id/doctr</td>\n",
       "    </tr>\n",
       "    <tr>\n",
       "      <th>4</th>\n",
       "      <td>maplemage</td>\n",
       "      <td>http://steamcommunity.com/id/maplemage</td>\n",
       "    </tr>\n",
       "    <tr>\n",
       "      <th>...</th>\n",
       "      <td>...</td>\n",
       "      <td>...</td>\n",
       "    </tr>\n",
       "    <tr>\n",
       "      <th>25794</th>\n",
       "      <td>76561198306599751</td>\n",
       "      <td>http://steamcommunity.com/profiles/76561198306...</td>\n",
       "    </tr>\n",
       "    <tr>\n",
       "      <th>25795</th>\n",
       "      <td>Ghoustik</td>\n",
       "      <td>http://steamcommunity.com/id/Ghoustik</td>\n",
       "    </tr>\n",
       "    <tr>\n",
       "      <th>25796</th>\n",
       "      <td>76561198310819422</td>\n",
       "      <td>http://steamcommunity.com/profiles/76561198310...</td>\n",
       "    </tr>\n",
       "    <tr>\n",
       "      <th>25797</th>\n",
       "      <td>76561198312638244</td>\n",
       "      <td>http://steamcommunity.com/profiles/76561198312...</td>\n",
       "    </tr>\n",
       "    <tr>\n",
       "      <th>25798</th>\n",
       "      <td>LydiaMorley</td>\n",
       "      <td>http://steamcommunity.com/id/LydiaMorley</td>\n",
       "    </tr>\n",
       "  </tbody>\n",
       "</table>\n",
       "<p>25485 rows × 2 columns</p>\n",
       "</div>"
      ],
      "text/plain": [
       "                 user_id                                           user_url\n",
       "0      76561197970982479  http://steamcommunity.com/profiles/76561197970...\n",
       "1                js41637               http://steamcommunity.com/id/js41637\n",
       "2              evcentric             http://steamcommunity.com/id/evcentric\n",
       "3                  doctr                 http://steamcommunity.com/id/doctr\n",
       "4              maplemage             http://steamcommunity.com/id/maplemage\n",
       "...                  ...                                                ...\n",
       "25794  76561198306599751  http://steamcommunity.com/profiles/76561198306...\n",
       "25795           Ghoustik              http://steamcommunity.com/id/Ghoustik\n",
       "25796  76561198310819422  http://steamcommunity.com/profiles/76561198310...\n",
       "25797  76561198312638244  http://steamcommunity.com/profiles/76561198312...\n",
       "25798        LydiaMorley           http://steamcommunity.com/id/LydiaMorley\n",
       "\n",
       "[25485 rows x 2 columns]"
      ]
     },
     "execution_count": 19,
     "metadata": {},
     "output_type": "execute_result"
    }
   ],
   "source": [
    "df_reviews = df_reviews.drop(\"reviews\", axis=1)\n",
    "df_reviews"
   ]
  },
  {
   "cell_type": "markdown",
   "metadata": {},
   "source": [
    "## i) Convertir \"user_id\" e \"item_id\" a tipos numéricos si es posible"
   ]
  },
  {
   "cell_type": "markdown",
   "metadata": {},
   "source": [
    "    Esto nos ayudara en el tratamiento de los datos por Id en las funciones."
   ]
  },
  {
   "cell_type": "code",
   "execution_count": 20,
   "metadata": {},
   "outputs": [],
   "source": [
    "\n",
    "df_items_items[\"user_id\"] = pd.to_numeric(df_items_items[\"user_id\"], errors=\"coerce\")\n",
    "df_items_items[\"item_id\"] = pd.to_numeric(df_items_items[\"item_id\"], errors=\"coerce\")"
   ]
  },
  {
   "cell_type": "markdown",
   "metadata": {},
   "source": [
    "# EDA"
   ]
  },
  {
   "cell_type": "markdown",
   "metadata": {},
   "source": [
    "    El análisis EDA será corto debido a que los datos estan correctos. Al parecer el sistema de recolección de informacón de STEAM funciona bien."
   ]
  },
  {
   "cell_type": "markdown",
   "metadata": {},
   "source": [
    "### a) Aquí se presenta una breve Descripción e Información de los Datasets que se van a utilizar."
   ]
  },
  {
   "cell_type": "code",
   "execution_count": 21,
   "metadata": {},
   "outputs": [
    {
     "name": "stdout",
     "output_type": "stream",
     "text": [
      "\n",
      "Primeros registros de df_items_items:\n",
      "<class 'pandas.core.frame.DataFrame'>\n",
      "Index: 5094082 entries, 0 to 5153208\n",
      "Data columns (total 5 columns):\n",
      " #   Column            Dtype  \n",
      "---  ------            -----  \n",
      " 0   user_id           float64\n",
      " 1   item_id           int64  \n",
      " 2   item_name         object \n",
      " 3   playtime_forever  int64  \n",
      " 4   playtime_2weeks   int64  \n",
      "dtypes: float64(1), int64(3), object(1)\n",
      "memory usage: 233.2+ MB\n",
      "None\n"
     ]
    }
   ],
   "source": [
    "print(\"\\nPrimeros registros de df_items_items:\")\n",
    "print(df_items_items.info())"
   ]
  },
  {
   "cell_type": "code",
   "execution_count": 22,
   "metadata": {},
   "outputs": [
    {
     "name": "stdout",
     "output_type": "stream",
     "text": [
      "             user_id       item_id    item_name  playtime_forever  \\\n",
      "count   2.229293e+06  5.094082e+06      5094082      5.094082e+06   \n",
      "unique           NaN           NaN        10947               NaN   \n",
      "top              NaN           NaN  Dota 2 Test               NaN   \n",
      "freq             NaN           NaN        49136               NaN   \n",
      "mean    1.144416e+27  1.783915e+05          NaN      9.905070e+02   \n",
      "std     1.186730e+29  1.318514e+05          NaN      5.414098e+03   \n",
      "min     0.000000e+00  1.000000e+01          NaN      0.000000e+00   \n",
      "25%     7.656120e+16  3.445000e+04          NaN      0.000000e+00   \n",
      "50%     7.656120e+16  2.144200e+05          NaN      3.400000e+01   \n",
      "75%     7.656120e+16  2.664300e+05          NaN      3.550000e+02   \n",
      "max     1.234568e+31  5.307200e+05          NaN      6.427730e+05   \n",
      "\n",
      "        playtime_2weeks  \n",
      "count      5.094082e+06  \n",
      "unique              NaN  \n",
      "top                 NaN  \n",
      "freq                NaN  \n",
      "mean       9.065389e+00  \n",
      "std        1.402838e+02  \n",
      "min        0.000000e+00  \n",
      "25%        0.000000e+00  \n",
      "50%        0.000000e+00  \n",
      "75%        0.000000e+00  \n",
      "max        1.996700e+04  \n"
     ]
    }
   ],
   "source": [
    "print(df_items_items.describe(include=\"all\"))"
   ]
  },
  {
   "cell_type": "code",
   "execution_count": 23,
   "metadata": {},
   "outputs": [
    {
     "name": "stdout",
     "output_type": "stream",
     "text": [
      "\n",
      "Primeros registros de df_reviews_reviews:\n",
      "<class 'pandas.core.frame.DataFrame'>\n",
      "Index: 58431 entries, 0 to 59304\n",
      "Data columns (total 8 columns):\n",
      " #   Column       Non-Null Count  Dtype \n",
      "---  ------       --------------  ----- \n",
      " 0   user_id      58431 non-null  object\n",
      " 1   funny        58431 non-null  object\n",
      " 2   posted       48498 non-null  object\n",
      " 3   last_edited  58431 non-null  object\n",
      " 4   item_id      58431 non-null  object\n",
      " 5   helpful      58431 non-null  object\n",
      " 6   recommend    58431 non-null  bool  \n",
      " 7   review       58431 non-null  object\n",
      "dtypes: bool(1), object(7)\n",
      "memory usage: 3.6+ MB\n",
      "None\n"
     ]
    }
   ],
   "source": [
    "print(\"\\nPrimeros registros de df_reviews_reviews:\")\n",
    "print(df_reviews_reviews.info())"
   ]
  },
  {
   "cell_type": "code",
   "execution_count": 24,
   "metadata": {},
   "outputs": [
    {
     "name": "stdout",
     "output_type": "stream",
     "text": [
      "                  user_id  funny      posted last_edited item_id  \\\n",
      "count               58431  58431       48498       58431   58431   \n",
      "unique              25458    186        1644        1015    3682   \n",
      "top     76561198108415635         2014/06/21                 730   \n",
      "freq                   10  50421         220       52394    3708   \n",
      "\n",
      "               helpful recommend     review  \n",
      "count            58431     58431      58431  \n",
      "unique            1344         2      55313  \n",
      "top     No ratings yet      True  good game  \n",
      "freq             29732     51692         98  \n"
     ]
    }
   ],
   "source": [
    "print(df_reviews_reviews.describe(include=\"all\"))"
   ]
  },
  {
   "cell_type": "code",
   "execution_count": 25,
   "metadata": {},
   "outputs": [
    {
     "name": "stdout",
     "output_type": "stream",
     "text": [
      "\n",
      "Primeros registros de df_games:\n",
      "<class 'pandas.core.frame.DataFrame'>\n",
      "Index: 21558 entries, 88310 to 120443\n",
      "Data columns (total 13 columns):\n",
      " #   Column        Non-Null Count  Dtype  \n",
      "---  ------        --------------  -----  \n",
      " 0   publisher     21558 non-null  object \n",
      " 1   genres        21558 non-null  object \n",
      " 2   app_name      21558 non-null  object \n",
      " 3   title         21558 non-null  object \n",
      " 4   url           21558 non-null  object \n",
      " 5   release_date  21558 non-null  object \n",
      " 6   tags          21558 non-null  object \n",
      " 7   reviews_url   21558 non-null  object \n",
      " 8   specs         21558 non-null  object \n",
      " 9   price         21558 non-null  float64\n",
      " 10  early_access  21558 non-null  object \n",
      " 11  id            21558 non-null  object \n",
      " 12  developer     21558 non-null  object \n",
      "dtypes: float64(1), object(12)\n",
      "memory usage: 2.3+ MB\n",
      "None\n"
     ]
    }
   ],
   "source": [
    "print(\"\\nPrimeros registros de df_games:\")\n",
    "print(df_games.info())"
   ]
  },
  {
   "cell_type": "code",
   "execution_count": 26,
   "metadata": {},
   "outputs": [
    {
     "name": "stdout",
     "output_type": "stream",
     "text": [
      "       publisher    genres   app_name      title  \\\n",
      "count      21558     21558      21558      21558   \n",
      "unique      7483       735      21543      21543   \n",
      "top      Ubisoft  [Action]  Alter Ego  Alter Ego   \n",
      "freq         363      1550          2          2   \n",
      "mean         NaN       NaN        NaN        NaN   \n",
      "std          NaN       NaN        NaN        NaN   \n",
      "min          NaN       NaN        NaN        NaN   \n",
      "25%          NaN       NaN        NaN        NaN   \n",
      "50%          NaN       NaN        NaN        NaN   \n",
      "75%          NaN       NaN        NaN        NaN   \n",
      "max          NaN       NaN        NaN        NaN   \n",
      "\n",
      "                                                      url release_date  \\\n",
      "count                                               21558        21558   \n",
      "unique                                              21558         3163   \n",
      "top     http://store.steampowered.com/app/761140/Lost_...   2012-10-16   \n",
      "freq                                                    1          100   \n",
      "mean                                                  NaN          NaN   \n",
      "std                                                   NaN          NaN   \n",
      "min                                                   NaN          NaN   \n",
      "25%                                                   NaN          NaN   \n",
      "50%                                                   NaN          NaN   \n",
      "75%                                                   NaN          NaN   \n",
      "max                                                   NaN          NaN   \n",
      "\n",
      "                tags                                        reviews_url  \\\n",
      "count          21558                                              21558   \n",
      "unique         11781                                              21558   \n",
      "top     [Simulation]  http://steamcommunity.com/app/761140/reviews/?...   \n",
      "freq             949                                                  1   \n",
      "mean             NaN                                                NaN   \n",
      "std              NaN                                                NaN   \n",
      "min              NaN                                                NaN   \n",
      "25%              NaN                                                NaN   \n",
      "50%              NaN                                                NaN   \n",
      "75%              NaN                                                NaN   \n",
      "max              NaN                                                NaN   \n",
      "\n",
      "                  specs         price early_access      id       developer  \n",
      "count             21558  21558.000000        21558   21558           21558  \n",
      "unique             3072           NaN            2   21558            9884  \n",
      "top     [Single-player]           NaN        False  761140  Dovetail Games  \n",
      "freq               2537           NaN        20271       1             252  \n",
      "mean                NaN      9.369781          NaN     NaN             NaN  \n",
      "std                 NaN     15.637664          NaN     NaN             NaN  \n",
      "min                 NaN      0.000000          NaN     NaN             NaN  \n",
      "25%                 NaN      2.990000          NaN     NaN             NaN  \n",
      "50%                 NaN      4.990000          NaN     NaN             NaN  \n",
      "75%                 NaN      9.990000          NaN     NaN             NaN  \n",
      "max                 NaN    995.000000          NaN     NaN             NaN  \n"
     ]
    }
   ],
   "source": [
    "print(df_games.describe(include=\"all\"))"
   ]
  },
  {
   "cell_type": "code",
   "execution_count": 27,
   "metadata": {},
   "outputs": [
    {
     "name": "stdout",
     "output_type": "stream",
     "text": [
      "\n",
      "Primeros registros de df_items:\n",
      "<class 'pandas.core.frame.DataFrame'>\n",
      "Index: 87625 entries, 3708 to 88309\n",
      "Data columns (total 4 columns):\n",
      " #   Column       Non-Null Count  Dtype \n",
      "---  ------       --------------  ----- \n",
      " 0   user_id      87625 non-null  object\n",
      " 1   items_count  87625 non-null  int64 \n",
      " 2   steam_id     87625 non-null  object\n",
      " 3   user_url     87625 non-null  object\n",
      "dtypes: int64(1), object(3)\n",
      "memory usage: 3.3+ MB\n",
      "None\n"
     ]
    }
   ],
   "source": [
    "print(\"\\nPrimeros registros de df_items:\")\n",
    "print(df_items.info())"
   ]
  },
  {
   "cell_type": "code",
   "execution_count": 28,
   "metadata": {},
   "outputs": [
    {
     "name": "stdout",
     "output_type": "stream",
     "text": [
      "        user_id   items_count           steam_id  \\\n",
      "count     87625  87625.000000              87625   \n",
      "unique    87625           NaN              87625   \n",
      "top     phrostb           NaN  76561198102767019   \n",
      "freq          1           NaN                  1   \n",
      "mean        NaN     58.135030                NaN   \n",
      "std         NaN    122.375025                NaN   \n",
      "min         NaN      0.000000                NaN   \n",
      "25%         NaN      3.000000                NaN   \n",
      "50%         NaN     26.000000                NaN   \n",
      "75%         NaN     73.000000                NaN   \n",
      "max         NaN   7762.000000                NaN   \n",
      "\n",
      "                                    user_url  \n",
      "count                                  87625  \n",
      "unique                                 87625  \n",
      "top     http://steamcommunity.com/id/phrostb  \n",
      "freq                                       1  \n",
      "mean                                     NaN  \n",
      "std                                      NaN  \n",
      "min                                      NaN  \n",
      "25%                                      NaN  \n",
      "50%                                      NaN  \n",
      "75%                                      NaN  \n",
      "max                                      NaN  \n"
     ]
    }
   ],
   "source": [
    "print(df_items.describe(include=\"all\"))"
   ]
  },
  {
   "cell_type": "code",
   "execution_count": 29,
   "metadata": {},
   "outputs": [
    {
     "name": "stdout",
     "output_type": "stream",
     "text": [
      "\n",
      "Primeros registros de df_reviews:\n",
      "<class 'pandas.core.frame.DataFrame'>\n",
      "Index: 25485 entries, 0 to 25798\n",
      "Data columns (total 2 columns):\n",
      " #   Column    Non-Null Count  Dtype \n",
      "---  ------    --------------  ----- \n",
      " 0   user_id   25485 non-null  object\n",
      " 1   user_url  25485 non-null  object\n",
      "dtypes: object(2)\n",
      "memory usage: 597.3+ KB\n",
      "None\n"
     ]
    }
   ],
   "source": [
    "print(\"\\nPrimeros registros de df_reviews:\")\n",
    "print(df_reviews.info())"
   ]
  },
  {
   "cell_type": "code",
   "execution_count": 30,
   "metadata": {},
   "outputs": [
    {
     "name": "stdout",
     "output_type": "stream",
     "text": [
      "                  user_id                                           user_url\n",
      "count               25485                                              25485\n",
      "unique              25485                                              25485\n",
      "top     76561197970982479  http://steamcommunity.com/profiles/76561197970...\n",
      "freq                    1                                                  1\n"
     ]
    }
   ],
   "source": [
    "print(df_reviews.describe(include=\"all\"))"
   ]
  },
  {
   "cell_type": "markdown",
   "metadata": {},
   "source": [
    "### b) Buscaremos OutLiers en algunas columnas:"
   ]
  },
  {
   "cell_type": "markdown",
   "metadata": {},
   "source": [
    "    df_games"
   ]
  },
  {
   "cell_type": "code",
   "execution_count": 31,
   "metadata": {},
   "outputs": [
    {
     "name": "stdout",
     "output_type": "stream",
     "text": [
      "Outliers:\n",
      "                               publisher  \\\n",
      "88318             Poppermost Productions   \n",
      "88328             Poppermost Productions   \n",
      "88369                             SimBin   \n",
      "88544                             NCsoft   \n",
      "88622            Dovetail Games - Trains   \n",
      "...                                  ...   \n",
      "120099                            SimBin   \n",
      "120116                           Ubisoft   \n",
      "120248  Firedog Creative Company Limited   \n",
      "120269                 CarX Technologies   \n",
      "120380                  DreamInCode B.V.   \n",
      "\n",
      "                                                   genres  \\\n",
      "88318           [Free to Play, Indie, Simulation, Sports]   \n",
      "88328           [Free to Play, Indie, Simulation, Sports]   \n",
      "88369                                            [Racing]   \n",
      "88544                        [Massively Multiplayer, RPG]   \n",
      "88622                                        [Simulation]   \n",
      "...                                                   ...   \n",
      "120099                                           [Racing]   \n",
      "120116                                           [Racing]   \n",
      "120248                                  [RPG, Simulation]   \n",
      "120269  [Massively Multiplayer, Racing, Simulation, Sp...   \n",
      "120380  [Action, Adventure, Casual, Indie, Simulation,...   \n",
      "\n",
      "                                                 app_name  \\\n",
      "88318                       SNOW - All Access Legend Pass   \n",
      "88328                                SNOW - Lifetime Pack   \n",
      "88369                                RACE - The WTCC Game   \n",
      "88544                                  Guild Wars Trilogy   \n",
      "88622     Train Simulator: Colton & Northern Route Add-On   \n",
      "...                                                   ...   \n",
      "120099  RACE 07: Andy Priaulx Crowne Plaza Raceway (Fr...   \n",
      "120116             Trackmania United Forever Star Edition   \n",
      "120248                                              愛神餐館2   \n",
      "120269                  CarX Drift Racing Online - Deluxe   \n",
      "120380                                          Mesozoica   \n",
      "\n",
      "                                                    title  \\\n",
      "88318                       SNOW - All Access Legend Pass   \n",
      "88328                                SNOW - Lifetime Pack   \n",
      "88369                                RACE - The WTCC Game   \n",
      "88544                                  Guild Wars Trilogy   \n",
      "88622   Train Simulator: Colton &amp; Northern Route A...   \n",
      "...                                                   ...   \n",
      "120099  RACE 07: Andy Priaulx Crowne Plaza Raceway (Fr...   \n",
      "120116             Trackmania United Forever Star Edition   \n",
      "120248                                              愛神餐館2   \n",
      "120269                  CarX Drift Racing Online - Deluxe   \n",
      "120380                                          Mesozoica   \n",
      "\n",
      "                                                      url release_date  \\\n",
      "88318   http://store.steampowered.com/app/774278/SNOW_...   2018-01-04   \n",
      "88328   http://store.steampowered.com/app/774279/SNOW_...   2018-01-03   \n",
      "88369   http://store.steampowered.com/app/4230/RACE__T...   2006-11-24   \n",
      "88544   http://store.steampowered.com/app/29570/Guild_...   2008-09-25   \n",
      "88622   http://store.steampowered.com/app/24029/Train_...   2009-09-25   \n",
      "...                                                   ...          ...   \n",
      "120099  http://store.steampowered.com/app/8650/RACE_07...   2008-06-19   \n",
      "120116  http://store.steampowered.com/app/7200/Trackma...   2008-04-16   \n",
      "120248        http://store.steampowered.com/app/769680/2/   2017-12-29   \n",
      "120269  http://store.steampowered.com/app/776950/CarX_...   2017-12-28   \n",
      "120380  http://store.steampowered.com/app/719590/Mesoz...   2018-01-02   \n",
      "\n",
      "                                                     tags  \\\n",
      "88318           [Free to Play, Indie, Simulation, Sports]   \n",
      "88328           [Free to Play, Indie, Simulation, Sports]   \n",
      "88369                                [Racing, Simulation]   \n",
      "88544           [RPG, Massively Multiplayer, MMORPG, PvP]   \n",
      "88622   [Simulation, Trains, Co-op, Open World, Sandbo...   \n",
      "...                                                   ...   \n",
      "120099                               [Racing, Simulation]   \n",
      "120116  [Racing, Multiplayer, Level Editor, Singleplay...   \n",
      "120248                           [RPG, Simulation, Anime]   \n",
      "120269  [Massively Multiplayer, Simulation, Racing, Sp...   \n",
      "120380  [Early Access, Simulation, Strategy, Casual, I...   \n",
      "\n",
      "                                              reviews_url  \\\n",
      "88318   http://steamcommunity.com/app/774278/reviews/?...   \n",
      "88328   http://steamcommunity.com/app/774279/reviews/?...   \n",
      "88369   http://steamcommunity.com/app/4230/reviews/?br...   \n",
      "88544   http://steamcommunity.com/app/29570/reviews/?b...   \n",
      "88622   http://steamcommunity.com/app/24029/reviews/?b...   \n",
      "...                                                   ...   \n",
      "120099  http://steamcommunity.com/app/8650/reviews/?br...   \n",
      "120116  http://steamcommunity.com/app/7200/reviews/?br...   \n",
      "120248  http://steamcommunity.com/app/769680/reviews/?...   \n",
      "120269  http://steamcommunity.com/app/776950/reviews/?...   \n",
      "120380  http://steamcommunity.com/app/719590/reviews/?...   \n",
      "\n",
      "                                                    specs  price early_access  \\\n",
      "88318   [Single-player, Multi-player, Online Multi-Pla...  29.99        False   \n",
      "88328   [Single-player, Multi-player, Online Multi-Pla...  59.99        False   \n",
      "88369                       [Single-player, Multi-player]  39.99        False   \n",
      "88544                                 [Multi-player, MMO]  29.99        False   \n",
      "88622               [Single-player, Downloadable Content]  24.99        False   \n",
      "...                                                   ...    ...          ...   \n",
      "120099                             [Downloadable Content]  39.99        False   \n",
      "120116  [Single-player, Multi-player, Includes level e...  29.99        False   \n",
      "120248                                    [Single-player]  34.99        False   \n",
      "120269  [Single-player, Multi-player, Online Multi-Pla...  29.99        False   \n",
      "120380                                    [Single-player]  29.99         True   \n",
      "\n",
      "            id                              developer  \n",
      "88318   774278                 Poppermost Productions  \n",
      "88328   774279                 Poppermost Productions  \n",
      "88369     4230                                 SimBin  \n",
      "88544    29570                              ArenaNet®  \n",
      "88622    24029                             All Aboard  \n",
      "...        ...                                    ...  \n",
      "120099    8650                                 SimBin  \n",
      "120116    7200                                  Nadeo  \n",
      "120248  769680       Firedog Creative Company Limited  \n",
      "120269  776950                      CarX Technologies  \n",
      "120380  719590  DreamInCode B.V.,Squadron Interactive  \n",
      "\n",
      "[1361 rows x 13 columns]\n",
      "\n",
      "Juegos con variaciones de precios para diferentes usuarios:\n",
      "                        title  variaciones_precio\n",
      "852                 Alter Ego                   2\n",
      "3097                  Castles                   2\n",
      "3639                   Colony                   2\n",
      "4452              Dark Matter                   2\n",
      "9231                 Invasion                   2\n",
      "10545       MORE SWEATER? OK!                   2\n",
      "12013  New York Bus Simulator                   2\n",
      "16114               Solitaire                   2\n",
      "16196              Soundtrack                   2\n",
      "16787              Streamline                   2\n",
      "17649                    Taxi                   2\n",
      "19740          Ultimate Arena                   2\n",
      "20220                 WARZONE                   2\n"
     ]
    }
   ],
   "source": [
    "# Identificar outliers usando el rango intercuartílico (IQR)\n",
    "Q1 = df_games[\"price\"].quantile(0.25)\n",
    "Q3 = df_games[\"price\"].quantile(0.75)\n",
    "IQR = Q3 - Q1\n",
    "\n",
    "# Definir límites para identificar outliers\n",
    "limite_inferior = Q1 - 1.5 * IQR\n",
    "limite_superior = Q3 + 1.5 * IQR\n",
    "\n",
    "# Filtrar los outliers\n",
    "outliers = df_games[(df_games[\"price\"] < limite_inferior) | (df_games[\"price\"] > limite_superior)]\n",
    "\n",
    "# Mostrar los outliers\n",
    "print(\"Outliers:\")\n",
    "print(outliers)\n",
    "\n",
    "# Verificar discrepancias de precios para juegos específicos\n",
    "discrepancias = df_games.groupby(\"title\")[\"price\"].nunique().reset_index(name=\"variaciones_precio\")\n",
    "juegos_con_variaciones_de_precio = discrepancias[discrepancias[\"variaciones_precio\"] > 1]\n",
    "\n",
    "# Mostrar juegos con variaciones de precios\n",
    "print(\"\\nJuegos con variaciones de precios para diferentes usuarios:\")\n",
    "print(juegos_con_variaciones_de_precio)\n"
   ]
  },
  {
   "cell_type": "markdown",
   "metadata": {},
   "source": [
    "    Ahora tomamos estos juegos con diferentes precios y cambiamos el precio al más alto de los que se repiten, ya que seguramente los mas bajos son por descuentos y los más altos son los precios normales. "
   ]
  },
  {
   "cell_type": "code",
   "execution_count": 32,
   "metadata": {},
   "outputs": [
    {
     "name": "stdout",
     "output_type": "stream",
     "text": [
      "\n",
      "DataFrame actualizado:\n",
      "                     publisher                                         genres  \\\n",
      "88310                Kotoshiro  [Action, Casual, Indie, Simulation, Strategy]   \n",
      "88311         Making Fun, Inc.           [Free to Play, Indie, RPG, Strategy]   \n",
      "88313                     彼岸领域                    [Action, Adventure, Casual]   \n",
      "88315      Trickjump Games Ltd                [Action, Adventure, Simulation]   \n",
      "88317   Poppermost Productions      [Free to Play, Indie, Simulation, Sports]   \n",
      "...                        ...                                            ...   \n",
      "120439         Bidoniera Games             [Action, Adventure, Casual, Indie]   \n",
      "120440         Ghost_RUS Games          [Casual, Indie, Simulation, Strategy]   \n",
      "120441                  Sacada                      [Casual, Indie, Strategy]   \n",
      "120442            Laush Studio                    [Indie, Racing, Simulation]   \n",
      "120443                SIXNAILS                                [Casual, Indie]   \n",
      "\n",
      "                          app_name                       title  \\\n",
      "88310          Lost Summoner Kitty         Lost Summoner Kitty   \n",
      "88311                    Ironbound                   Ironbound   \n",
      "88313                      弹炸人2222                     弹炸人2222   \n",
      "88315        Battle Royale Trainer       Battle Royale Trainer   \n",
      "88317   SNOW - All Access Pro Pass  SNOW - All Access Pro Pass   \n",
      "...                            ...                         ...   \n",
      "120439                Kebab it Up!                Kebab it Up!   \n",
      "120440              Colony On Mars              Colony On Mars   \n",
      "120441    LOGistICAL: South Africa    LOGistICAL: South Africa   \n",
      "120442               Russian Roads               Russian Roads   \n",
      "120443         EXIT 2 - Directions         EXIT 2 - Directions   \n",
      "\n",
      "                                                      url release_date  \\\n",
      "88310   http://store.steampowered.com/app/761140/Lost_...   2018-01-04   \n",
      "88311   http://store.steampowered.com/app/643980/Ironb...   2018-01-04   \n",
      "88313      http://store.steampowered.com/app/767400/2222/   2017-12-07   \n",
      "88315   http://store.steampowered.com/app/772540/Battl...   2018-01-04   \n",
      "88317   http://store.steampowered.com/app/774277/SNOW_...   2018-01-04   \n",
      "...                                                   ...          ...   \n",
      "120439  http://store.steampowered.com/app/745400/Kebab...   2018-01-04   \n",
      "120440  http://store.steampowered.com/app/773640/Colon...   2018-01-04   \n",
      "120441  http://store.steampowered.com/app/733530/LOGis...   2018-01-04   \n",
      "120442  http://store.steampowered.com/app/610660/Russi...   2018-01-04   \n",
      "120443  http://store.steampowered.com/app/658870/EXIT_...   2017-09-02   \n",
      "\n",
      "                                                     tags  \\\n",
      "88310       [Strategy, Action, Indie, Casual, Simulation]   \n",
      "88311   [Free to Play, Strategy, Indie, RPG, Card Game...   \n",
      "88313                         [Action, Adventure, Casual]   \n",
      "88315   [Action, Adventure, Simulation, FPS, Shooter, ...   \n",
      "88317           [Free to Play, Indie, Simulation, Sports]   \n",
      "...                                                   ...   \n",
      "120439        [Action, Indie, Casual, Violent, Adventure]   \n",
      "120440              [Strategy, Indie, Casual, Simulation]   \n",
      "120441                          [Strategy, Indie, Casual]   \n",
      "120442                        [Indie, Simulation, Racing]   \n",
      "120443  [Indie, Casual, Puzzle, Singleplayer, Atmosphe...   \n",
      "\n",
      "                                              reviews_url  \\\n",
      "88310   http://steamcommunity.com/app/761140/reviews/?...   \n",
      "88311   http://steamcommunity.com/app/643980/reviews/?...   \n",
      "88313   http://steamcommunity.com/app/767400/reviews/?...   \n",
      "88315   http://steamcommunity.com/app/772540/reviews/?...   \n",
      "88317   http://steamcommunity.com/app/774277/reviews/?...   \n",
      "...                                                   ...   \n",
      "120439  http://steamcommunity.com/app/745400/reviews/?...   \n",
      "120440  http://steamcommunity.com/app/773640/reviews/?...   \n",
      "120441  http://steamcommunity.com/app/733530/reviews/?...   \n",
      "120442  http://steamcommunity.com/app/610660/reviews/?...   \n",
      "120443  http://steamcommunity.com/app/658870/reviews/?...   \n",
      "\n",
      "                                                    specs  price early_access  \\\n",
      "88310                                     [Single-player]   4.99        False   \n",
      "88311   [Single-player, Multi-player, Online Multi-Pla...   0.00        False   \n",
      "88313                                     [Single-player]   0.99        False   \n",
      "88315                 [Single-player, Steam Achievements]   3.99        False   \n",
      "88317   [Single-player, Multi-player, Online Multi-Pla...  18.99        False   \n",
      "...                                                   ...    ...          ...   \n",
      "120439   [Single-player, Steam Achievements, Steam Cloud]   1.99        False   \n",
      "120440                [Single-player, Steam Achievements]   1.99        False   \n",
      "120441  [Single-player, Steam Achievements, Steam Clou...   4.99        False   \n",
      "120442  [Single-player, Steam Achievements, Steam Trad...   1.99        False   \n",
      "120443   [Single-player, Steam Achievements, Steam Cloud]   4.99        False   \n",
      "\n",
      "            id                 developer  \n",
      "88310   761140                 Kotoshiro  \n",
      "88311   643980          Secret Level SRL  \n",
      "88313   767400                      彼岸领域  \n",
      "88315   772540       Trickjump Games Ltd  \n",
      "88317   774277    Poppermost Productions  \n",
      "...        ...                       ...  \n",
      "120439  745400           Bidoniera Games  \n",
      "120440  773640        Nikita \"Ghost_RUS\"  \n",
      "120441  733530                    Sacada  \n",
      "120442  610660  Laush Dmitriy Sergeevich  \n",
      "120443  658870             xropi,stev3ns  \n",
      "\n",
      "[21558 rows x 13 columns]\n"
     ]
    }
   ],
   "source": [
    "# Identificar juegos con precios diferentes\n",
    "juegos_con_variaciones_de_precio = juegos_con_variaciones_de_precio[\"title\"].tolist()\n",
    "\n",
    "# Actualizar los precios de los juegos al más alto de los precios que se repiten\n",
    "for juego in juegos_con_variaciones_de_precio:\n",
    "    max_price = df_games[df_games[\"title\"] == juego][\"price\"].max()\n",
    "    df_games.loc[df_games[\"title\"] == juego, \"price\"] = max_price\n",
    "\n",
    "# Verificar los cambios realizados\n",
    "print(\"\\nDataFrame actualizado:\")\n",
    "print(df_games)\n"
   ]
  },
  {
   "cell_type": "markdown",
   "metadata": {},
   "source": [
    "### c) Feature Engineering: Analisis de Sentimiento \n",
    "\n",
    "Crea una nueva columna llamada \"sentiment_analysis\" utilizando análisis de sentimiento con NLP en las reseñas de usuarios. Esta columna debe tener valores 0 para malas reseñas, 1 para reseñas neutrales y 2 para reseñas positivas."
   ]
  },
  {
   "cell_type": "markdown",
   "metadata": {},
   "source": [
    "Esta función toma un texto como entrada y realiza un análisis de sentimiento utilizando TextBlob. \n",
    "Un valor numérico que representa el sentimiento detectado.\n",
    "         - 0: Sentimiento negativo\n",
    "         - 1: Sentimiento neutral\n",
    "         - 2: Sentimiento positivo"
   ]
  },
  {
   "cell_type": "code",
   "execution_count": 33,
   "metadata": {},
   "outputs": [],
   "source": [
    "def analyze_sentiment(text):\n",
    "    # Crear una instancia de TextBlob para analizar el texto\n",
    "    analysis = TextBlob(text)\n",
    "    \n",
    "    # Determinar la polaridad del sentimiento (-1 a 1)\n",
    "    polarity = analysis.sentiment.polarity\n",
    "    \n",
    "    # Asignar un valor numérico según la polaridad\n",
    "    if polarity < 0:\n",
    "        return 0  # Sentimiento negativo\n",
    "    elif polarity == 0:\n",
    "        return 1  # Sentimiento neutral\n",
    "    else:\n",
    "        return 2  # Sentimiento positivo\n",
    "\n",
    "def clean_and_join(text):\n",
    "    # Verificar si el valor es un número o nulo\n",
    "    if isinstance(text, (int, float)) or pd.isna(text):\n",
    "        return \"\"  # Devolver una cadena vacía en caso de valor numérico o nulo\n",
    "    else:\n",
    "        # Por ejemplo, puedes eliminar caracteres especiales, hacer minúsculas, etc.\n",
    "        cleaned_text = text.lower()  # Convierte el texto a minúsculas\n",
    "        return cleaned_text\n"
   ]
  },
  {
   "cell_type": "code",
   "execution_count": 34,
   "metadata": {},
   "outputs": [],
   "source": [
    "# Asegúrate de que la columna \"reviews\" contenga texto plano\n",
    "df_reviews_reviews[\"review\"] = df_reviews_reviews[\"review\"].apply(clean_and_join)\n",
    "\n",
    "# Aplicar la función analyze_sentiment para crear la columna \"sentimiento\"\n",
    "df_reviews_reviews[\"sentiment_analysis\"] = df_reviews_reviews[\"review\"].apply(analyze_sentiment)"
   ]
  },
  {
   "cell_type": "markdown",
   "metadata": {},
   "source": [
    "### d) Gráfico de Pastel de Sentimiento:"
   ]
  },
  {
   "cell_type": "code",
   "execution_count": 35,
   "metadata": {},
   "outputs": [
    {
     "data": {
      "image/png": "[encoded data removed]",
      "text/plain": [
       "<Figure size 800x600 with 1 Axes>"
      ]
     },
     "metadata": {},
     "output_type": "display_data"
    }
   ],
   "source": [
    "# Agrupar las reseñas por categoría de sentimiento y contar la cantidad en cada categoría\n",
    "sentiment_counts = df_reviews_reviews[\"sentiment_analysis\"].value_counts()\n",
    "\n",
    "# Crear un gráfico de pastel\n",
    "plt.figure(figsize=(8, 6))\n",
    "plt.pie(sentiment_counts, labels=[\"Negativo\", \"Neutral\", \"Positivo\"], autopct=\"%1.1f%%\", startangle=140)\n",
    "plt.title(\"Distribución de Sentimiento en Reseñas\")\n",
    "plt.axis(\"equal\")  # Aspecto circular\n",
    "plt.show()"
   ]
  },
  {
   "cell_type": "markdown",
   "metadata": {},
   "source": [
    "### e) Gráfico de Línea de Tiempo de Sentimiento:"
   ]
  },
  {
   "cell_type": "markdown",
   "metadata": {},
   "source": [
    "    Este gráfico lo que nos da es una idea de como va evolucionando  el sentimiento del jugador en general a través del tiempo. Por lo que se puede apreciar es una caía, segun jugadores, en la calidad general de los juegos, lo que debería analizarse para lograr fundamentos de la calidad general mala de los comentarios."
   ]
  },
  {
   "cell_type": "code",
   "execution_count": 36,
   "metadata": {},
   "outputs": [
    {
     "data": {
      "image/png": "[encoded data removed]",
      "text/plain": [
       "<Figure size 1200x600 with 1 Axes>"
      ]
     },
     "metadata": {},
     "output_type": "display_data"
    }
   ],
   "source": [
    "# Nos aseguramos de que la columna \"posted\" esté en formato datetime\n",
    "df_reviews_reviews[\"posted\"] = pd.to_datetime(df_reviews_reviews[\"posted\"], errors=\"coerce\")\n",
    "\n",
    "# Agrupamos las reseñas por anio y calculamos el promedio de sentimiento para cada anio\n",
    "sentiment_by_year = df_reviews_reviews.groupby(df_reviews_reviews[\"posted\"].dt.year)[\"sentiment_analysis\"].mean()\n",
    "\n",
    "# Crear un gráfico de línea de tiempo por anio\n",
    "plt.figure(figsize=(12, 6))\n",
    "sentiment_by_year.plot(kind=\"line\", marker=\"o\", linestyle=\"-\", color=\"b\")\n",
    "plt.title(\"Tendencia de Sentimiento por anio\")\n",
    "plt.xlabel(\"anio\")\n",
    "plt.ylabel(\"Puntuación de Sentimiento Promedio\")\n",
    "plt.grid(True)\n",
    "plt.show()"
   ]
  },
  {
   "cell_type": "markdown",
   "metadata": {},
   "source": [
    "## f) Guardar df en csv:"
   ]
  },
  {
   "cell_type": "markdown",
   "metadata": {},
   "source": [
    "    Disminuimos el tamanio de uno de estos datasets para que se pueda subir a GitHub"
   ]
  },
  {
   "cell_type": "code",
   "execution_count": 37,
   "metadata": {},
   "outputs": [],
   "source": [
    "# A propósito de disminuir el tamanio del archivo y que se pueda subir a GITHUB se realizara un truncamiento de los datos.\n",
    "\n",
    "# Obtener una muestra aleatoria de 1000000 filas\n",
    "df_items_items = df_items_items.sample(100000, random_state=0)\n",
    "\n",
    "# Guardar df_items_items en un archivo CSV\n",
    "df_items_items.to_csv(\"./datasets/df_items_items.csv\", index=False)\n",
    "\n",
    "# Guardar df_reviews_reviews en un archivo CSV\n",
    "df_reviews_reviews.to_csv(\"./datasets/df_reviews_reviews.csv\", index=False)\n",
    "\n",
    "# Guardar df_games en un archivo CSV\n",
    "df_games.to_csv(\"./datasets/df_games.csv\", index=False)\n",
    "\n",
    "# Guardar df_items en un archivo CSV\n",
    "df_items.to_csv(\"./datasets/df_items.csv\", index=False)\n",
    "\n",
    "# Guardar df_reviews en un archivo CSV\n",
    "df_reviews.to_csv(\"./datasets/df_reviews.csv\", index=False)\n"
   ]
  },
  {
   "cell_type": "markdown",
   "metadata": {},
   "source": [
    "# 3 - Carga"
   ]
  },
  {
   "cell_type": "code",
   "execution_count": 38,
   "metadata": {},
   "outputs": [],
   "source": [
    "df_items_items = pd.read_csv(\"./datasets/df_items_items.csv\")\n",
    "df_reviews_reviews = pd.read_csv(\"./datasets/df_reviews_reviews.csv\")\n",
    "df_games = pd.read_csv(\"./datasets/df_games.csv\")\n",
    "df_items = pd.read_csv(\"./datasets/df_items.csv\")\n",
    "df_reviews = pd.read_csv(\"./datasets/df_reviews.csv\")\n",
    "df_games[\"release_date\"] = pd.to_datetime(df_games[\"release_date\"], errors=\"coerce\")\n",
    "df_reviews_reviews[\"posted\"] = pd.to_datetime(df_reviews_reviews[\"posted\"], errors=\"coerce\")"
   ]
  },
  {
   "cell_type": "markdown",
   "metadata": {},
   "source": [
    "<h1 style=\"text-align:center;\">Apartado de Funciones para API</h1>\n"
   ]
  },
  {
   "cell_type": "markdown",
   "metadata": {},
   "source": [
    "1 - def PlayTimeGenre( genero : str ): Debe devolver anio con mas horas jugadas para dicho género."
   ]
  },
  {
   "cell_type": "markdown",
   "metadata": {},
   "source": [
    "    # Ejemplo: \"indie\""
   ]
  },
  {
   "cell_type": "code",
   "execution_count": 39,
   "metadata": {},
   "outputs": [],
   "source": [
    "def PlayTimeGenre(genero: str):\n",
    "    # Combinar los dataframes df_games y df_items_items utilizando la columna de identificación\n",
    "    merged_df = df_games.merge(df_items_items, left_on=\"id\", right_on=\"item_id\")\n",
    "    # Convertir genero y genres a minúsculas para hacer coincidencias insensibles a mayúsculas y minúsculas\n",
    "    genero = genero.lower()\n",
    "    # Convertir la columna \"genres\" a tipo cadena y luego a minúsculas\n",
    "    merged_df[\"genres\"] = merged_df[\"genres\"].astype(str).str.lower()\n",
    "    # Inicializar un diccionario para realizar un seguimiento del tiempo de juego por anio\n",
    "    playtime_by_year = {}\n",
    "\n",
    "    # Iterar a través de cada fila del dataframe combinado\n",
    "    for index, row in merged_df.iterrows():\n",
    "        # Verificar si el género proporcionado está en la lista de géneros de la fila actual\n",
    "        if genero in row[\"genres\"]:\n",
    "            # Obtener el anio de la fecha de lanzamiento\n",
    "            release_year = row[\"release_date\"].year\n",
    "            # Agregar las horas jugadas al contador correspondiente al anio de lanzamiento\n",
    "            if release_year in playtime_by_year:\n",
    "                playtime_by_year[release_year] += row[\"playtime_forever\"]\n",
    "            else:\n",
    "                playtime_by_year[release_year] = row[\"playtime_forever\"]\n",
    "\n",
    "    # Encontrar el anio con más horas jugadas\n",
    "    max_year = max(playtime_by_year, key=playtime_by_year.get)\n",
    "\n",
    "    # Devolver el resultado como una respuesta JSON\n",
    "    return {\"anio de lanzamiento con más horas jugadas para el género \" + genero: max_year}"
   ]
  },
  {
   "cell_type": "code",
   "execution_count": 40,
   "metadata": {},
   "outputs": [
    {
     "name": "stdout",
     "output_type": "stream",
     "text": [
      "{'anio de lanzamiento con más horas jugadas para el género indie': 2006}\n"
     ]
    }
   ],
   "source": [
    "print(PlayTimeGenre(\"indie\"))"
   ]
  },
  {
   "cell_type": "markdown",
   "metadata": {},
   "source": [
    "2 - def UserForGenre( genero : str ): Debe devolver el usuario que acumula más horas jugadas para el género dado y una lista de la acumulación de horas jugadas por anio."
   ]
  },
  {
   "cell_type": "markdown",
   "metadata": {},
   "source": [
    "    # Ejemplo: \"indie\""
   ]
  },
  {
   "cell_type": "code",
   "execution_count": 41,
   "metadata": {},
   "outputs": [],
   "source": [
    "def get_max_playtime_user(df_games, df_items_items, genero):\n",
    "    # Combinar los dataframes df_games y df_items_items utilizando la columna de identificación\n",
    "    merged_df = df_games.merge(df_items_items, left_on=\"id\", right_on=\"item_id\")\n",
    "\n",
    "    # Convertir genero y genres a minúsculas para hacer coincidencias insensibles a mayúsculas y minúsculas\n",
    "    genero = genero.lower()\n",
    "    # Convertir la columna \"genres\" a tipo cadena y luego a minúsculas\n",
    "    merged_df[\"genres\"] = merged_df[\"genres\"].astype(str).str.lower()\n",
    "\n",
    "\n",
    "    # Inicializar un diccionario para realizar un seguimiento de las horas jugadas por anio para el usuario específico\n",
    "    playtime_by_year = {}\n",
    "\n",
    "    # Inicializar una variable para realizar un seguimiento del usuario con más horas jugadas\n",
    "    max_playtime_user = None\n",
    "    max_playtime = 0\n",
    "\n",
    "    # Iterar a través de cada fila del dataframe combinado\n",
    "    for index, row in merged_df.iterrows():\n",
    "        # Verificar si el género proporcionado está en la lista de géneros de la fila actual\n",
    "        if genero in row[\"genres\"]:\n",
    "            # Obtener el usuario y las horas jugadas para la fila actual\n",
    "            user_id = row[\"user_id\"]\n",
    "            playtime = row[\"playtime_forever\"]\n",
    "            # Verificar si el usuario actual tiene más horas jugadas que el máximo actual\n",
    "            if user_id not in playtime_by_year:\n",
    "                playtime_by_year[user_id] = []\n",
    "            playtime_by_year[user_id].append({\"anio\": row[\"release_date\"].year, \"Horas\": playtime})\n",
    "            if playtime > max_playtime:\n",
    "                max_playtime = playtime\n",
    "                max_playtime_user = user_id\n",
    "\n",
    "    return max_playtime_user, playtime_by_year[max_playtime_user]"
   ]
  },
  {
   "cell_type": "code",
   "execution_count": 42,
   "metadata": {},
   "outputs": [
    {
     "name": "stdout",
     "output_type": "stream",
     "text": [
      "{'Usuario con más horas jugadas para Género indie': 765611983889673.0, 'Horas jugadas': [{'anio': 2006, 'Horas': 421652}]}\n"
     ]
    }
   ],
   "source": [
    "genero = \"indie\"\n",
    "max_playtime_user, playtime_data = get_max_playtime_user(df_games, df_items_items, genero)\n",
    "print({\"Usuario con más horas jugadas para Género \" + genero: max_playtime_user, \"Horas jugadas\": playtime_data})\n"
   ]
  },
  {
   "cell_type": "markdown",
   "metadata": {},
   "source": [
    "3 - def UsersRecommend( anio : int ): Devuelve el top 3 de juegos MÁS recomendados por usuarios para el anio dado. (reviews.recommend = True y comentarios positivos/neutrales)"
   ]
  },
  {
   "cell_type": "markdown",
   "metadata": {},
   "source": [
    "    Ejemplo: 2015"
   ]
  },
  {
   "cell_type": "code",
   "execution_count": 43,
   "metadata": {},
   "outputs": [],
   "source": [
    "def get_top_recommendations(df_reviews_reviews, df_items_items, anio):\n",
    "    # Combinar los dataframes df_reviews_reviews y df_items_items utilizando la columna de identificación\n",
    "    merged_df = df_reviews_reviews.merge(df_items_items, left_on=\"item_id\", right_on=\"item_id\")\n",
    "\n",
    "    # Filtrar los juegos recomendados para el anio dado con análisis de sentimientos positivos y neutrales\n",
    "    recommended_games = merged_df[(merged_df[\"recommend\"] == True) & \n",
    "        (merged_df[\"posted\"].dt.year == anio) & \n",
    "        ((merged_df[\"sentiment_analysis\"] == 2) | (merged_df[\"sentiment_analysis\"] == 1))]\n",
    "\n",
    "    # Obtener los top 3 juegos más recomendados\n",
    "    top_3_recommendations = recommended_games[\"item_name\"].str.lower().value_counts().head(3).index.tolist()\n",
    "\n",
    "    return top_3_recommendations"
   ]
  },
  {
   "cell_type": "code",
   "execution_count": 44,
   "metadata": {},
   "outputs": [
    {
     "name": "stdout",
     "output_type": "stream",
     "text": [
      "[{'Puesto 1': 'counter-strike: global offensive'}, {'Puesto 2': \"garry's mod\"}, {'Puesto 3': 'unturned'}]\n"
     ]
    }
   ],
   "source": [
    "top_3_recommendations = get_top_recommendations(df_reviews_reviews, df_items_items, 2015)\n",
    "print([{\"Puesto 1\": top_3_recommendations[0]}, \n",
    "                                 {\"Puesto 2\": top_3_recommendations[1]}, \n",
    "                                 {\"Puesto 3\": top_3_recommendations[2]}])"
   ]
  },
  {
   "cell_type": "markdown",
   "metadata": {},
   "source": [
    "4 - def UsersNotRecommend( anio : int ): Devuelve el top 3 de juegos MENOS recomendados por usuarios para el anio dado. (reviews.recommend = False y comentarios negativos)"
   ]
  },
  {
   "cell_type": "markdown",
   "metadata": {},
   "source": [
    "    # Ejemplo: 2015"
   ]
  },
  {
   "cell_type": "code",
   "execution_count": 45,
   "metadata": {},
   "outputs": [],
   "source": [
    "def get_top_not_recommendations(df_reviews_reviews, df_items_items, anio):\n",
    "    # Combinar los dataframes df_reviews_reviews y df_items_items utilizando la columna de identificación\n",
    "    merged_df = df_reviews_reviews.merge(df_items_items, left_on=\"item_id\", right_on=\"item_id\")\n",
    "\n",
    "    # Filtrar los juegos no recomendados para el anio dado con análisis de sentimientos negativos\n",
    "    not_recommended_games = merged_df[(merged_df[\"recommend\"] == False) & \n",
    "                                      (merged_df[\"posted\"].dt.year == anio) & \n",
    "                                      (merged_df[\"sentiment_analysis\"] == 0)]\n",
    "\n",
    "    # Obtener los top 3 juegos menos recomendados\n",
    "    top_3_not_recommendations = not_recommended_games[\"item_name\"].str.lower().value_counts().head(3).index.tolist()\n",
    "\n",
    "    return top_3_not_recommendations"
   ]
  },
  {
   "cell_type": "code",
   "execution_count": 46,
   "metadata": {},
   "outputs": [
    {
     "name": "stdout",
     "output_type": "stream",
     "text": [
      "[{'Puesto 1': 'counter-strike: global offensive'}, {'Puesto 2': 'payday 2'}, {'Puesto 3': 'unturned'}]\n"
     ]
    }
   ],
   "source": [
    "top_3_not_recommendations = get_top_not_recommendations(df_reviews_reviews, df_items_items, 2015)\n",
    "print([\n",
    "    {\"Puesto 1\": top_3_not_recommendations[0]}, \n",
    "    {\"Puesto 2\": top_3_not_recommendations[1]}, \n",
    "    {\"Puesto 3\": top_3_not_recommendations[2]}])"
   ]
  },
  {
   "cell_type": "markdown",
   "metadata": {},
   "source": [
    "5 - def sentiment_analysis( anio : int ): Según el anio de lanzamiento, se devuelve una lista con la cantidad de registros de reseñas de usuarios que se encuentren categorizados con un análisis de sentimiento."
   ]
  },
  {
   "cell_type": "markdown",
   "metadata": {},
   "source": [
    "    # Ejemplo: 2015"
   ]
  },
  {
   "cell_type": "code",
   "execution_count": 47,
   "metadata": {},
   "outputs": [],
   "source": [
    "# Definimos la función para el análisis de sentimientos\n",
    "def sentiment_analysis(year: int, df_games: pd.DataFrame, df_reviews_reviews: pd.DataFrame):\n",
    "    try:\n",
    "        # Filtrar las reseñas de juegos lanzados en el anio especificado\n",
    "        filtered_games = df_games[df_games[\"release_date\"].dt.year == year]\n",
    "        \n",
    "        # Obtener los IDs de juegos lanzados en ese anio\n",
    "        game_ids = filtered_games[\"id\"].tolist()\n",
    "        \n",
    "        # Filtrar las reseñas de usuarios que corresponden a esos juegos\n",
    "        filtered_reviews = df_reviews_reviews[df_reviews_reviews[\"item_id\"].isin(game_ids)]\n",
    "        \n",
    "        # Realizar el conteo de las categorías de análisis de sentimiento\n",
    "        sentiment_counts = filtered_reviews[\"sentiment_analysis\"].value_counts().to_dict()\n",
    "        \n",
    "        # Agregar descripciones a las categorías\n",
    "        sentiment_counts_with_description = {\n",
    "            \"Negative\": sentiment_counts.get(0, 0),\n",
    "            \"Neutral\": sentiment_counts.get(1, 0),\n",
    "            \"Positive\": sentiment_counts.get(2, 0)\n",
    "        }\n",
    "        \n",
    "        return sentiment_counts_with_description\n",
    "    \n",
    "    except Exception as e:\n",
    "        # Manejar cualquier excepción que pueda ocurrir durante el proceso\n",
    "        raise HTTPException(status_code=500, detail=\"Error interno del servidor\")\n"
   ]
  },
  {
   "cell_type": "code",
   "execution_count": 48,
   "metadata": {},
   "outputs": [
    {
     "name": "stdout",
     "output_type": "stream",
     "text": [
      "{'Negative': 1100, 'Neutral': 891, 'Positive': 2470}\n"
     ]
    }
   ],
   "source": [
    "# Llamar a la función de análisis de sentimientos y obtener los resultados\n",
    "sentiment_counts = sentiment_analysis(2015, df_games, df_reviews_reviews)\n",
    "    \n",
    "# Devolver una respuesta JSON con el contenido generado\n",
    "print(sentiment_counts)"
   ]
  },
  {
   "cell_type": "markdown",
   "metadata": {},
   "source": [
    "# Modelos de ML para Sistema de recomendación\n",
    "\n",
    "Antes de todo, este apartado es para justificar y comprobar el funcionamiento de los algoritmos, debido a que en el archivo main no estarian funcionando la importacion de librerias por cuestiones que no se conocen. Aquí queda comprobado su funcionamiento.\n",
    "\n",
    "## 1) Sistema de recomendación item-item:\n",
    "\n",
    "\n",
    "En este ejemplo, utilizamos un algoritmo de Machine Learning llamado k-Nearest Neighbors (k-NN) para realizar recomendaciones de juegos. El algoritmo k-NN es un método de aprendizaje supervisado utilizado en tareas de clasificación y regresión, pero también puede aplicarse en tareas de recomendación, como en este caso.\n",
    "\n",
    "    k-Nearest Neighbors (k-NN):\n",
    "\n",
    "    El algoritmo k-NN se basa en la idea de que objetos similares tienden a estar cerca unos de otros en un espacio de características. Funciona de la siguiente manera:\n"
   ]
  },
  {
   "cell_type": "code",
   "execution_count": 49,
   "metadata": {},
   "outputs": [],
   "source": [
    "import pandas as pd\n",
    "from sklearn.neighbors import NearestNeighbors\n",
    "from sklearn.preprocessing import LabelEncoder\n",
    "import json\n",
    "\n",
    "# Función para obtener recomendaciones\n",
    "def get_recommendations(game_id):\n",
    "    # Tratar los valores faltantes en las columnas \"genres\" y \"tags\" con \"Desconocido\"\n",
    "    df_games[\"genres\"].fillna(\"Desconocido\", inplace=True)\n",
    "    df_games[\"tags\"].fillna(\"Desconocido\", inplace=True)\n",
    "\n",
    "    # Asegurarse de que las columnas \"genres\" y \"tags\" sean de tipo string\n",
    "    df_games[\"genres\"] = df_games[\"genres\"].astype(str)\n",
    "    df_games[\"tags\"] = df_games[\"tags\"].astype(str)\n",
    "\n",
    "    # Realizar la eliminación de comillas simples\n",
    "    df_games[\"genres\"] = df_games[\"genres\"].str.replace(\"\"\", \"\")\n",
    "    df_games[\"tags\"] = df_games[\"tags\"].str.replace(\"\"\", \"\")\n",
    "\n",
    "    # Convertir las columnas \"genres\" y \"tags\" a variables categóricas\n",
    "    label_encoder = LabelEncoder()\n",
    "    df_games[\"genres\"] = label_encoder.fit_transform(df_games[\"genres\"])\n",
    "    df_games[\"tags\"] = label_encoder.fit_transform(df_games[\"tags\"])\n",
    "\n",
    "    # Entrenar el modelo KNN\n",
    "    knn = NearestNeighbors(n_neighbors=5, metric=\"euclidean\")\n",
    "    knn.fit(df_games[[\"genres\", \"tags\"]])\n",
    "    \n",
    "    # Encontrar el juego más similar utilizando el modelo KNN\n",
    "    game = df_games.loc[df_games[\"id\"] == game_id, [\"genres\", \"tags\"]].values.reshape(1, -1)\n",
    "    distances, indices = knn.kneighbors(game)\n",
    "\n",
    "    # Obtener los nombres de las aplicaciones recomendadas\n",
    "    recommended_app_names = df_games.iloc[indices[0]][\"app_name\"].tolist()\n",
    "    \n",
    "    # Crear un JSON con los nombres de las aplicaciones recomendadas\n",
    "    recommendations_json = json.dumps({\"recommendations\": recommended_app_names})\n",
    "    \n",
    "    return recommendations_json"
   ]
  },
  {
   "cell_type": "code",
   "execution_count": 50,
   "metadata": {},
   "outputs": [
    {
     "name": "stdout",
     "output_type": "stream",
     "text": [
      "{\"recommendations\": [\"SNOW - All Access Legend Pass\", \"SNOW - All Access Pro Pass\", \"SNOW - Starter Pack\", \"SNOW - Lifetime Pack\", \"High Profits\"]}\n"
     ]
    },
    {
     "name": "stderr",
     "output_type": "stream",
     "text": [
      "c:\\Users\\londe\\OneDrive\\Programacion\\2 - Henrry\\Data Science\\CLASES - DATA\\PROYECTO INDIVIDUAL\\PI_MLOps_04\\venv\\Lib\\site-packages\\sklearn\\base.py:465: UserWarning: X does not have valid feature names, but NearestNeighbors was fitted with feature names\n",
      "  warnings.warn(\n"
     ]
    }
   ],
   "source": [
    "# Ejemplo de uso:\n",
    "game_id = 774277  # Cambia esto por el ID del juego que desees consultar\n",
    "recommendations = get_recommendations(game_id)\n",
    "print(recommendations)"
   ]
  }
 ],
 "metadata": {
  "kernelspec": {
   "display_name": "HENRY",
   "language": "python",
   "name": "python3"
  },
  "language_info": {
   "codemirror_mode": {
    "name": "ipython",
    "version": 3
   },
   "file_extension": ".py",
   "mimetype": "text/x-python",
   "name": "python",
   "nbconvert_exporter": "python",
   "pygments_lexer": "ipython3",
   "version": "3.11.2"
  },
  "orig_nbformat": 4
 },
 "nbformat": 4,
 "nbformat_minor": 2
}
